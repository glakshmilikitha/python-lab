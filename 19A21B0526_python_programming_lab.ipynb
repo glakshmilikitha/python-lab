{
  "nbformat": 4,
  "nbformat_minor": 0,
  "metadata": {
    "colab": {
      "name": "19A21B0526_python programming lab",
      "provenance": [],
      "collapsed_sections": [],
      "authorship_tag": "ABX9TyOa09HK9z4qy72bXCrHoKpC",
      "include_colab_link": true
    },
    "kernelspec": {
      "display_name": "Python 3",
      "name": "python3"
    },
    "language_info": {
      "name": "python"
    }
  },
  "cells": [
    {
      "cell_type": "markdown",
      "metadata": {
        "id": "view-in-github",
        "colab_type": "text"
      },
      "source": [
        "<a href=\"https://colab.research.google.com/github/glakshmilikitha/python-lab/blob/main/19A21B0526_python_programming_lab.ipynb\" target=\"_parent\"><img src=\"https://colab.research.google.com/assets/colab-badge.svg\" alt=\"Open In Colab\"/></a>"
      ]
    },
    {
      "cell_type": "markdown",
      "metadata": {
        "id": "kbMJmlz824iw"
      },
      "source": [
        " Name:G.Lakshmi Likitha\n",
        " \n",
        "Regdno:19A21B0526\n",
        " \n",
        "Section: cse-shift"
      ]
    },
    {
      "cell_type": "markdown",
      "metadata": {
        "id": "3toHJ04B26qI"
      },
      "source": [
        " Exercise:1\n",
        " \n",
        "Basics\n",
        " \n",
        "AIM:\n",
        "WRITE PROGRAM IN INTERACTIVE,INTERPRETER,PYHON SCRIPT MODE.\n",
        " \n",
        " \n",
        "Description: : Python is a high-level, interpreted, interactive and object-oriented scripting\n",
        "language. Python is designed to be highly readable. It uses English keywords frequently where\n",
        "as other languages use punctuation, and it has fewer syntactical constructions than other\n",
        "languages. Python is Interpreted Python is Interactive Python is Object-Oriented Python is a\n",
        "Beginner's Language Python Programming Running Python Scripts Running Python in THREE\n",
        "ways: a) Running Python Interpreter b) Running Python Scripts in IDLE c) Running python scripts\n",
        "in Command Prompt a) Running Python Interpreter: Python comes with an interactive\n",
        "interpreter. When you type python in your shell or command prompt, the python interpreter\n",
        "becomes active with a >>> prompt and waits for your commands b) Running Python Scripts in\n",
        "IDLE: . Go to File menu click on New File (CTRL+N) and write the code and save first.py c)\n",
        "Running python scripts in Command Prompt: · Before going to run we have to check the PATH in environmental studies"
      ]
    },
    {
      "cell_type": "code",
      "metadata": {
        "colab": {
          "base_uri": "https://localhost:8080/"
        },
        "id": "n_OQ7CTW3mWe",
        "outputId": "fa85854a-4982-42c7-e2cb-f6b40ccf7288"
      },
      "source": [
        " \n",
        "a=69\n",
        "b=99\n",
        "a,b=b,a\n",
        "print(a,b)"
      ],
      "execution_count": null,
      "outputs": [
        {
          "name": "stdout",
          "output_type": "stream",
          "text": [
            "99 69\n"
          ]
        }
      ]
    },
    {
      "cell_type": "markdown",
      "metadata": {
        "id": "MAPNk2NhBmU1"
      },
      "source": [
        "b)write a program to purposefully raise indentation error and correct it.\n",
        " \n",
        "Aim:Write a program to purposefully raise Indentation Error and Correct it\n",
        " \n",
        "Description:\n",
        "Indentation Python does not support braces to indicate blocks of code for class and function definitions or flow control\n",
        " \n",
        "*Blocks of code are denoted by line indentation.\n",
        " \n",
        "*All the continuous lines indented with same number of spaces would form a block. Python strictly follow indentation rules to indicate the blocks\n",
        " \n",
        "Program:"
      ]
    },
    {
      "cell_type": "code",
      "metadata": {
        "colab": {
          "base_uri": "https://localhost:8080/"
        },
        "id": "O18953ILCi61",
        "outputId": "796d3f85-f63c-409c-99bf-0881ce7c1bbf"
      },
      "source": [
        " \n",
        "a=input(\"enter a vlaue:\")\n",
        "b=input(\"enter b value:\")\n",
        "c=a+b;\n",
        "print(\"sum is \",c,sep=\"\\t\")\n",
        "c=int(a)+int(b)\n",
        "print(\"sum of {} and {} is : {}\".format(a,b,c))\n",
        "print(\"sum of %s and %s is:%d\"%(a,b,c))\n",
        "x=20\n",
        "y=143\n",
        "z=x+y;\n",
        "print(\"sum is\",z,sep='\\t' )"
      ],
      "execution_count": null,
      "outputs": [
        {
          "name": "stdout",
          "output_type": "stream",
          "text": [
            "enter a vlaue:23\n",
            "enter b value:33\n",
            "sum is \t2333\n",
            "sum of 23 and 33 is : 56\n",
            "sum of 23 and 33 is:56\n",
            "sum is\t163\n"
          ]
        }
      ]
    },
    {
      "cell_type": "code",
      "metadata": {
        "colab": {
          "base_uri": "https://localhost:8080/",
          "height": 168
        },
        "id": "jY37h2_sD76r",
        "outputId": "10a178c1-b97a-4871-9a8b-52b36fa74045"
      },
      "source": [
        "print(\"welcome to python\")\n",
        "a=40\n",
        "b=90\n",
        "print(\"the value of a:\",a)\n",
        "print(\"the value of b :\",b)\n",
        "if(a>b):\n",
        "print(\"a is big\");\n",
        "print(\"ifbblock ends\")\n",
        "else:\n",
        "print(\"b is big\")\n",
        "print(\"elseblock ends\")"
      ],
      "execution_count": null,
      "outputs": [
        {
          "ename": "IndentationError",
          "evalue": "ignored",
          "output_type": "error",
          "traceback": [
            "\u001b[0;36m  File \u001b[0;32m\"<ipython-input-15-3eb127335781>\"\u001b[0;36m, line \u001b[0;32m7\u001b[0m\n\u001b[0;31m    print(\"a is big\");\u001b[0m\n\u001b[0m        ^\u001b[0m\n\u001b[0;31mIndentationError\u001b[0m\u001b[0;31m:\u001b[0m expected an indented block\n"
          ]
        }
      ]
    },
    {
      "cell_type": "markdown",
      "metadata": {
        "id": "zUChvEcu3uco"
      },
      "source": [
        "EXERCISE-2\n",
        " \n",
        "A.COMPUTE DISTANCE BETWEEN TWO POINTS\n",
        " \n",
        "Aim:\n",
        " \n",
        "Program to compute distance between two points taking input from the user(pythagorean\n",
        "theorem)\n",
        " \n",
        " \n",
        "DESCRIPTION:\n",
        "Taking Input From the User: A function is defined as a block of organized, reusable code used to\n",
        "perform a single, related action. Python has many built-in functions; you can also create your\n",
        "own. Python has an input function which lets you ask a user for some text input. You call this\n",
        "function to tell the program to stop and wait for the user to key in the data. In Python 2, you have\n",
        "a built-in function raw_input(), whereas in Python 3, you have input(). The program will resume\n",
        "once the user presses the ENTER or RETURN key.\n",
        "Input Function input(prompt=None,/). Read a string from standard input. The trailing newline is\n",
        "stripped. The prompt string, if given, is printed to standard output without a trailing newline\n",
        "before reading input. If the user hits EOF (*nix: Ctrl-D, Windows: Ctrl Z+Return), raise EOFError."
      ]
    },
    {
      "cell_type": "code",
      "metadata": {
        "colab": {
          "base_uri": "https://localhost:8080/"
        },
        "id": "tBww2Vq334r5",
        "outputId": "354d1f5e-0ef1-4dc6-e969-422575e4722d"
      },
      "source": [
        "50\n",
        "import math\n",
        "x1=int(input(\"enter  x1 value:\"))\n",
        "x2=int(input(\"enter  x2 value:\"))\n",
        "y1=int(input(\"enter  y1 value:\"))\n",
        "y2=int(input(\"enter  y2 value:\"))\n",
        "z=math.sqrt((x2-x1)**2+(y2-y1)**2)\n",
        "print(\"the distance between two points is :\",z)\n",
        "print(\"the distance between two points is :\",z,sep='\\t')\n",
        "print(\"the distance between ({}, {})and ({},{}) is  :{}\".format(x1,y1,x2,y2,z))\n",
        " \n",
        "print(\"the distance between (%d, %d)and (%d,%d) is  :%f\"%(x1,y1,x2,y2,z))"
      ],
      "execution_count": null,
      "outputs": [
        {
          "name": "stdout",
          "output_type": "stream",
          "text": [
            "enter  x1 value:23\n",
            "enter  x2 value:34\n",
            "enter  y1 value:45\n",
            "enter  y2 value:54\n",
            "the distance between two points is : 14.212670403551895\n",
            "the distance between two points is :\t14.212670403551895\n",
            "the distance between (23, 45)and (34,54) is  :14.212670403551895\n",
            "the distance between (23, 45)and (34,54) is  :14.212670\n"
          ]
        }
      ]
    },
    {
      "cell_type": "markdown",
      "metadata": {
        "id": "hp3q7dj0EfwF"
      },
      "source": [
        "B.TAKE TWO NUMBERS ON COMMAND LINE ARGUMENTS AND PRINT THE SUM.\n",
        " \n",
        " \n",
        "AIM:\n",
        " \n",
        " \n",
        "Write a program add.py that takes 2 numbers as command line arguments and print its sum\n",
        "Description: b)write a program add.py that takes 2 numbers as command line arguments and\n",
        "print its sum\n",
        " \n",
        " \n",
        " Description:\n",
        " \n",
        "The arguments that are given after the name of the program in the command line shell of the\n",
        "operating system are known as Command Line Arguments. Python provides various ways of\n",
        "dealing with these types of arguments. The three most common are: Using sys.argv Using\n",
        "getopt module Using argparse module Using sys.argv\n",
        "The sys module provides functions and variables used to manipulate different parts of the\n",
        "Python runtime environment.\n",
        "This module provides access to some variables used or maintained by the interpreter and to\n",
        "functions that interact strongly with the interpreter.\n",
        "One such variable is sys.argv which is a simple list structure. It’s main purpose are:\n",
        "It is a list of command line arguments.\n",
        "len(sys.argv) provides the number of command line arguments."
      ]
    },
    {
      "cell_type": "code",
      "metadata": {
        "id": "vn3ygf3WE4fV"
      },
      "source": [
        "import sys\n",
        "a=sys.argv[1]\n",
        "b=sys.argv[2]\n",
        "sum=int(a)+int(b)\n",
        "print(\"sum of two number is:\",sum)"
      ],
      "execution_count": null,
      "outputs": []
    },
    {
      "cell_type": "markdown",
      "metadata": {
        "id": "ond6LKVE4DlO"
      },
      "source": [
        "EXCERSCISE-3\n",
        " \n",
        "A) Write a Program for checking whether the given number is an even number or not.\n",
        " \n",
        "AIM:\n",
        " \n",
        " \n",
        "Program for checking whether the given number is an even number or not.\n",
        "DESCRIPTION:\n",
        " \n",
        " \n",
        "if..else Statement When there is an alternate operation in control flow, use an else statement\n",
        "alongside with if statement.\n",
        "The general format is\n",
        "if condition:\n",
        "true statement\n",
        "else:\n",
        "false statement"
      ]
    },
    {
      "cell_type": "code",
      "metadata": {
        "colab": {
          "base_uri": "https://localhost:8080/"
        },
        "id": "DUTfkU_f4H1p",
        "outputId": "e2a7d83e-cd32-4e0d-c478-6de342391fbc"
      },
      "source": [
        "n=int(input(\"enter a number:\"))\n",
        "if (n%2)==0:\n",
        "        print(\"given number is even\")\n",
        "else:\n",
        "      print(\"given number is odd\")"
      ],
      "execution_count": null,
      "outputs": [
        {
          "name": "stdout",
          "output_type": "stream",
          "text": [
            "enter a number:2\n",
            "given number is even\n"
          ]
        }
      ]
    },
    {
      "cell_type": "markdown",
      "metadata": {
        "id": "sleukYJYFrJV"
      },
      "source": [
        " b)Using a for loop,write a program that prints out the decimal equivalents of 1/2, 1/3,\n",
        "1/4......1/10\n",
        " \n",
        " \n",
        "Aim:\n",
        " \n",
        " \n",
        "Using a for loop,write a program that prints out the decimal equivalents of 1/2, 1/3, 1/4......1/10\n",
        " \n",
        " \n",
        "DESCRIPTION\n",
        " \n",
        "For Loop:\n",
        "For loops can iterate over a sequence of numbers using the \"range\" and \"xrange\" functions.\n",
        "The difference between range and xrange is that the range function returns a new list with\n",
        "numbers of that specified range, whereas xrange returns an iterator, which is more eficient.\n",
        " \n",
        "The general format is\n",
        "for x in range(start,stop,step):\n",
        "Statement\n",
        " \n",
        "Program:"
      ]
    },
    {
      "cell_type": "code",
      "metadata": {
        "colab": {
          "base_uri": "https://localhost:8080/"
        },
        "id": "iorEPvDt4MMK",
        "outputId": "569837b8-e19b-4744-f6cd-424abd23ea3e"
      },
      "source": [
        "n=int(input(\"enter a number:\"))\n",
        "for i in range(2,n):\n",
        "    de=1/i;\n",
        "    print(\"1/\"+str(i)+\"=\",de)"
      ],
      "execution_count": null,
      "outputs": [
        {
          "name": "stdout",
          "output_type": "stream",
          "text": [
            "enter a number:56\n",
            "1/2= 0.5\n",
            "1/3= 0.3333333333333333\n",
            "1/4= 0.25\n",
            "1/5= 0.2\n",
            "1/6= 0.16666666666666666\n",
            "1/7= 0.14285714285714285\n",
            "1/8= 0.125\n",
            "1/9= 0.1111111111111111\n",
            "1/10= 0.1\n",
            "1/11= 0.09090909090909091\n",
            "1/12= 0.08333333333333333\n",
            "1/13= 0.07692307692307693\n",
            "1/14= 0.07142857142857142\n",
            "1/15= 0.06666666666666667\n",
            "1/16= 0.0625\n",
            "1/17= 0.058823529411764705\n",
            "1/18= 0.05555555555555555\n",
            "1/19= 0.05263157894736842\n",
            "1/20= 0.05\n",
            "1/21= 0.047619047619047616\n",
            "1/22= 0.045454545454545456\n",
            "1/23= 0.043478260869565216\n",
            "1/24= 0.041666666666666664\n",
            "1/25= 0.04\n",
            "1/26= 0.038461538461538464\n",
            "1/27= 0.037037037037037035\n",
            "1/28= 0.03571428571428571\n",
            "1/29= 0.034482758620689655\n",
            "1/30= 0.03333333333333333\n",
            "1/31= 0.03225806451612903\n",
            "1/32= 0.03125\n",
            "1/33= 0.030303030303030304\n",
            "1/34= 0.029411764705882353\n",
            "1/35= 0.02857142857142857\n",
            "1/36= 0.027777777777777776\n",
            "1/37= 0.02702702702702703\n",
            "1/38= 0.02631578947368421\n",
            "1/39= 0.02564102564102564\n",
            "1/40= 0.025\n",
            "1/41= 0.024390243902439025\n",
            "1/42= 0.023809523809523808\n",
            "1/43= 0.023255813953488372\n",
            "1/44= 0.022727272727272728\n",
            "1/45= 0.022222222222222223\n",
            "1/46= 0.021739130434782608\n",
            "1/47= 0.02127659574468085\n",
            "1/48= 0.020833333333333332\n",
            "1/49= 0.02040816326530612\n",
            "1/50= 0.02\n",
            "1/51= 0.0196078431372549\n",
            "1/52= 0.019230769230769232\n",
            "1/53= 0.018867924528301886\n",
            "1/54= 0.018518518518518517\n",
            "1/55= 0.01818181818181818\n"
          ]
        }
      ]
    },
    {
      "cell_type": "markdown",
      "metadata": {
        "id": "UOOu7S43GPUI"
      },
      "source": [
        "Write a program using a for loop over a sequence. what is sequence?\n",
        " \n",
        "Aim:\n",
        " \n",
        "Program using a for loop over a sequence. what is sequence\n",
        "DESCRIPTION:\n",
        " \n",
        "For Loop:\n",
        "For loops can iterate over a sequence of numbers using the \"range\" and \"xrange\" functions\n",
        " \n",
        "The difference between range and xrange is that the range function returns a new list with\n",
        "numbers of that specified range, whereas xrange returns an iterator, which is more eficient.\n",
        " \n",
        "The general format is:\n",
        " \n",
        "for x in range(start,stop,step):\n",
        " \n",
        "Statement\n",
        " \n",
        "Program:"
      ]
    },
    {
      "cell_type": "code",
      "metadata": {
        "colab": {
          "base_uri": "https://localhost:8080/"
        },
        "id": "pYeUIP_z4Ux_",
        "outputId": "359b578f-468a-4dac-a797-5fd6cfc4b885"
      },
      "source": [
        "#program using a for a loop that loops over a sequence\n",
        "print(\"loop sequence\")\n",
        "num=[45,25,2,28,3,25]\n",
        "for i in num:\n",
        "    print(i)\n",
        " \n",
        "#string sequence\n",
        "print(\"string sequence\")\n",
        "days=[\"sun\",\"mon\",\"tue\",\"wed\",\"thur\",\"fri\",\"st\"]\n",
        "for d in days:\n",
        "    print(d)\n",
        "    \n",
        "#bothh sequence\n",
        "print(\"sequence\")\n",
        "arr=[123,\"abc\",5.6,'h',-33,\"xy\",True]\n",
        "for x in arr:\n",
        "      print(x)"
      ],
      "execution_count": null,
      "outputs": [
        {
          "name": "stdout",
          "output_type": "stream",
          "text": [
            "loop sequence\n",
            "45\n",
            "25\n",
            "2\n",
            "28\n",
            "3\n",
            "25\n",
            "string sequence\n",
            "sun\n",
            "mon\n",
            "tue\n",
            "wed\n",
            "thur\n",
            "fri\n",
            "st\n",
            "sequence\n",
            "123\n",
            "abc\n",
            "5.6\n",
            "h\n",
            "-33\n",
            "xy\n",
            "True\n"
          ]
        }
      ]
    },
    {
      "cell_type": "markdown",
      "metadata": {
        "id": "TK5iZgUcHX49"
      },
      "source": [
        "d)Write a program using a while loop that asks the user for a number and print a coount down\n",
        "that number to user.\n",
        " \n",
        "Aim:\n",
        " \n",
        "program using a while loop that asks the user for a number and print a coount down that\n",
        "number to user.\n",
        "DESCRIPTION:\n",
        "While Loop is used to execute a block of statements repeatedly until a given condition is\n",
        "satisfied.\n",
        "And when the condition becomes false, the line immediately after the loop in the program is\n",
        " executed\n",
        " \n",
        "While loop falls under the category of indefinite iteration\n",
        "The syntax for a while loop is:\n",
        " \n",
        " \n",
        "While (condition)"
      ]
    },
    {
      "cell_type": "code",
      "metadata": {
        "colab": {
          "base_uri": "https://localhost:8080/"
        },
        "id": "JgfpDUM44Xc0",
        "outputId": "a9ebcacc-ab5a-4c20-cf50-6fb02602fbb2"
      },
      "source": [
        "#countdown seq\n",
        "n=int(input(\"enter the numbr:\"))\n",
        "while n>0:\n",
        "      print(n)\n",
        "      n=n-1"
      ],
      "execution_count": null,
      "outputs": [
        {
          "name": "stdout",
          "output_type": "stream",
          "text": [
            "enter the numbr:45\n",
            "45\n",
            "44\n",
            "43\n",
            "42\n",
            "41\n",
            "40\n",
            "39\n",
            "38\n",
            "37\n",
            "36\n",
            "35\n",
            "34\n",
            "33\n",
            "32\n",
            "31\n",
            "30\n",
            "29\n",
            "28\n",
            "27\n",
            "26\n",
            "25\n",
            "24\n",
            "23\n",
            "22\n",
            "21\n",
            "20\n",
            "19\n",
            "18\n",
            "17\n",
            "16\n",
            "15\n",
            "14\n",
            "13\n",
            "12\n",
            "11\n",
            "10\n",
            "9\n",
            "8\n",
            "7\n",
            "6\n",
            "5\n",
            "4\n",
            "3\n",
            "2\n",
            "1\n"
          ]
        }
      ]
    },
    {
      "cell_type": "markdown",
      "metadata": {
        "id": "_jsniqQu4d6R"
      },
      "source": [
        "EXCERCISE-4\n",
        " \n",
        "a) Find the sum of all the primes below two million. Each new term in the Fibonacci sequence is generated by adding the previous two terms. Bystarting with 1 and 2, the first 10 terms will be: 1, 2, 3, 5, 8, 13, 21, 34, 55, 89, ...\n",
        "Aim: \n",
        " \n",
        "Find the sum of all the primes below two million. Each new term in the Fibonacci sequence\n",
        "is generated by adding the previous two terms. Bystarting with 1 and 2, the first 10 terms will be:\n",
        "1, 2, 3, 5, 8, 13, 21, 34, 55, 89, ...\n",
        " \n",
        " \n",
        "DESCRIPTION:\n",
        " \n",
        " \n",
        "A Fibonacci sequence is the integer sequence of 0, 1, 1, 2, 3, 5, 8.... The first two terms are 0 and\n",
        "1. All other terms are obtained by adding the preceding two terms.\n",
        "This means to say the nth term is the sum of (n-1)th and (n-2)th term Here, we store the number\n",
        "of terms in nterms. We initialize the first term to 0 and the second term to 1.\n",
        "If the number of terms is more than 2, we use a while loop to find the next term in the sequence\n",
        "by adding the preceding two terms. We then interchange the variables (update it) and continue\n",
        " on with the process"
      ]
    },
    {
      "cell_type": "code",
      "metadata": {
        "colab": {
          "base_uri": "https://localhost:8080/"
        },
        "id": "vwOsAZr_4fun",
        "outputId": "1245df25-e5e2-4650-af46-2d0d4c057d26"
      },
      "source": [
        "n=int(input(\"enter a num:\"))\n",
        "a=1\n",
        "b=0\n",
        "c=a+b\n",
        "st=\"\"\n",
        "sum=0\n",
        "con=0\n",
        "while con<=n:\n",
        "    st+=\"\"+str(c)\n",
        "    sum+=c        \n",
        "    a=b\n",
        "    b=c \n",
        "    c=a+b\n",
        "    con+=1\n",
        "print(st)\n",
        "print(\"sum of fibonacii series:\",sum)"
      ],
      "execution_count": null,
      "outputs": [
        {
          "name": "stdout",
          "output_type": "stream",
          "text": [
            "enter a num:3\n",
            "1123\n",
            "sum of fibonacii series: 7\n"
          ]
        }
      ]
    },
    {
      "cell_type": "markdown",
      "metadata": {
        "id": "MzTu9s4qk_lb"
      },
      "source": [
        " b) Each new term in the fibonacci sequence is generated by adding the previous two terms.By\n",
        "starting with 1 and 2 the first 10 terms will be:1,2,3,5,8,13,21,34,55,89....\n",
        " \n",
        "Aim:\n",
        " \n",
        "Each new term in the fibonacci sequence is generated by adding the previous two terms.By\n",
        "starting with 1 and 2 the first 10 terms will be:1,2,3,5,8,13,21,34,55,89....\n",
        " \n",
        "DESCRIPTION:\n",
        " \n",
        "A Fibonacci sequence is the integer sequence of 0, 1, 1, 2, 3, 5, 8.... The first two terms are 0 and\n",
        "1. All other terms are obtained by adding the preceding two terms.\n",
        "This means to say the nth term is the sum of (n-1)th and (n-2)th term Here, we store the number\n",
        "of terms in nterms. We initialize the first term to 0 and the second term to 1.\n",
        "If the number of terms is more than 2, we use a while loop to find the next term in the sequence by adding the  preceding two terms We then interchange the variables (update it) and continue on with the process.\n",
        " \n",
        "Program"
      ]
    },
    {
      "cell_type": "code",
      "metadata": {
        "colab": {
          "base_uri": "https://localhost:8080/"
        },
        "id": "SLzmHhLzmo6G",
        "outputId": "ac60f809-58ac-4145-a257-c82d081e64de"
      },
      "source": [
        "n=int(input(\"enter value of n: \"))\n",
        "a=0\n",
        "b=1\n",
        "c=a+b\n",
        "while c<n:\n",
        "  print(c,end=' ')\n",
        "  a=b\n",
        "  a=c\n",
        "  c=a+b"
      ],
      "execution_count": null,
      "outputs": [
        {
          "name": "stdout",
          "output_type": "stream",
          "text": [
            "enter value of n: 3\n",
            "1 2 "
          ]
        }
      ]
    },
    {
      "cell_type": "markdown",
      "metadata": {
        "id": "iPeaK2zjnHpl"
      },
      "source": [
        "C)By considering the terms in the fibanocci sequence whose values do not exceed four milliion,find the sum of even valued terms.\n",
        " \n",
        "Aim:\n",
        " \n",
        "By considering the terms in the fibanocci sequence whose values do not exceed four milliion,find the sum of even valued terms.\n",
        " \n",
        "DESCRIPTION:\n",
        " \n",
        "A Fibonacci sequence is the integer sequence of 0, 1, 1, 2, 3, 5, 8.... The first two terms are 0 and 1. All other terms are obtained by adding the preceding two terms.\n",
        "This means to say the nth term is the sum of (n-1)th and (n-2)th term Here, we store the number of terms in nterms. We initialize the first term to 0 and the second term to 1.\n",
        "If the number of terms is more than 2, we use a while loop to find the next term in the sequence by adding the preceding two terms. We then interchange the variables (update it) and continue on with the process.\n",
        " \n",
        "Program:"
      ]
    },
    {
      "cell_type": "code",
      "metadata": {
        "colab": {
          "base_uri": "https://localhost:8080/"
        },
        "id": "0Btr3lXAnWWz",
        "outputId": "573048bf-ceb5-4870-84d3-eca881a3e3d4"
      },
      "source": [
        "n=int(input(\"Enter value of n: \"))\n",
        "a=0\n",
        "b=1\n",
        "c=a+b\n",
        "st=\" \"\n",
        "while c<n:\n",
        "  st+=\" \"+str(c)\n",
        "  a=b\n",
        "  b=c\n",
        "  c=a+b\n",
        "print(st)"
      ],
      "execution_count": null,
      "outputs": [
        {
          "name": "stdout",
          "output_type": "stream",
          "text": [
            "Enter value of n: 4\n",
            "  1 2 3\n"
          ]
        }
      ]
    },
    {
      "cell_type": "markdown",
      "metadata": {
        "id": "nQN0Bur0nvnA"
      },
      "source": [
        "EXCERCISE-5 - DS\n",
        " \n",
        "a) Write a program to count the numbers of characters in the string and store them in adictionary data structure\n",
        " \n",
        "Aim:\n",
        " \n",
        "program to count the number of characters in a string and store them in a dictionary type data structure.\n",
        " \n",
        "DESCRIPTION:\n",
        " \n",
        "Given a string, the task is to find the frequencies of all the characters in that string and return a dictionary with key as the character and its value as its frequency in the given string.\n",
        "Method #1 : Naive method\n",
        "Simply iterate through the string and form a key in dictionary of newly occurred element or if element is already occurred, increase its value by 1.\n",
        " \n",
        "Method #2 : Using collections.Counter()\n",
        "The most suggested method that could be used to find all occurrences is this method, this actually gets all element frequency and could also be used to print single element frequency if required.\n",
        "Program:"
      ]
    },
    {
      "cell_type": "code",
      "metadata": {
        "colab": {
          "base_uri": "https://localhost:8080/"
        },
        "id": "uie-bhSF4tgm",
        "outputId": "e0e3390a-72c9-4d3b-eba4-73bfd70c6663"
      },
      "source": [
        "name=input(\"enter a name:\")\n",
        "dic={}\n",
        "for ch in name:\n",
        "    keys=dic.keys()\n",
        " \n",
        "    if(ch in keys):\n",
        "        dic[ch]=dic[ch]+1\n",
        "    else:\n",
        "        dic[ch]=1\n",
        " \n",
        "print(\"dictinarry is:\",dic)"
      ],
      "execution_count": null,
      "outputs": [
        {
          "name": "stdout",
          "output_type": "stream",
          "text": [
            "enter a name:Liki\n",
            "dictinarry is: {'L': 1, 'i': 2, 'k': 1}\n"
          ]
        }
      ]
    },
    {
      "cell_type": "markdown",
      "metadata": {
        "id": "uI2aF-gQn9BW"
      },
      "source": [
        " b)Write a program to use split and join methods in the string and trace a birthday with a dictionary data structure.\n",
        " \n",
        "Aim:\n",
        " \n",
        "program to use split and join methods in the string and trace a birthday with a dictionary data structure.\n",
        " \n",
        "DESCRIPTION:\n",
        " \n",
        "Python program to Split a string based on a delimiter and join the string using another delimiter.\n",
        "Split a string can be quite useful sometimes, especially when you need only certain parts of strings. A simple yet effective example is splitting the First-name and Last-name of a person. Another application is CSV(Comma Separated Files). We use split to get data from CSV and join to write data to CSV.\n",
        "In Python, we can use the function split() to split a string and join() to join a string.\n",
        " \n",
        "Program:"
      ]
    },
    {
      "cell_type": "code",
      "metadata": {
        "colab": {
          "base_uri": "https://localhost:8080/"
        },
        "id": "_Roo4A7H41KJ",
        "outputId": "836f2618-7917-4f73-efec-8884bdf21b43"
      },
      "source": [
        "dob={\"Likitha\":\"26-05-2002\",\"nandhu\":\"24-04-2001\"}\n",
        "name=input(\"enter which person dob u want:\")\n",
        "l=name.split()\n",
        "birth=\"\"\n",
        "for i in l:\n",
        "    if i in dob.keys():\n",
        "        pers=i\n",
        " \n",
        "print(\"\".join([pers,\"birthdayis:\",dob[pers]]))"
      ],
      "execution_count": null,
      "outputs": [
        {
          "name": "stdout",
          "output_type": "stream",
          "text": [
            "enter which person dob u want:Likitha\n",
            "Likithabirthdayis:26-05-2002\n"
          ]
        }
      ]
    },
    {
      "cell_type": "markdown",
      "metadata": {
        "id": "cuhlBm__odlD"
      },
      "source": [
        "EXERCISE-6 DS - Continued\n",
        "\n",
        "a) Write a program combinelists that combines these lists into a dictionary.\n",
        "\n",
        "Aim:\n",
        "\n",
        "Write a program combine lists that combines these lists into a dictionary.\n",
        "\n",
        "DESCRIPTION:\n",
        "\n",
        "For this, simply declare a dictionary, and then run nested loop for both the lists and assign key and value pairs to from list values to dictionary.\n",
        "Most pythonic and generic method to perform this very task is by using zip(). This function pairs the list element with other list element at corresponding index in form of key-value pairs.\n",
        "\n",
        "Program:"
      ]
    },
    {
      "cell_type": "code",
      "metadata": {
        "colab": {
          "base_uri": "https://localhost:8080/"
        },
        "id": "F9GUkMXm4-xx",
        "outputId": "c673488b-0870-427b-e34a-e9753263c198"
      },
      "source": [
        "sub=[\"daa\",\"os\",\"dbms\",\"p&s\",\"ppl\",\"se\"]\n",
        "marks=[87,93,60,85,88,99]\n",
        "print(sub)\n",
        "print(marks)\n",
        "dic=dict(zip(sub,marks))\n",
        "print(dic)"
      ],
      "execution_count": null,
      "outputs": [
        {
          "name": "stdout",
          "output_type": "stream",
          "text": [
            "['daa', 'os', 'dbms', 'p&s', 'ppl', 'se']\n",
            "[87, 93, 60, 85, 88, 99]\n",
            "{'daa': 87, 'os': 93, 'dbms': 60, 'p&s': 85, 'ppl': 88, 'se': 99}\n"
          ]
        }
      ]
    },
    {
      "cell_type": "markdown",
      "metadata": {
        "id": "lPPUnX7spLu8"
      },
      "source": [
        "b)Write a program to count frequency of characters in a given file.Can you use character frequency to tell whether the given file is python program file, C program file or a text file.\n",
        " \n",
        "Aim:\n",
        " \n",
        "Write a program to count frequency of characters in a given file.Can you use character frequency to tell whether the given file is python program file, C program file or a text file.\n",
        " \n",
        "DESCRIPTION:\n",
        " \n",
        "approaches to count the number of times a letter appears in a text file in Python.\n",
        "Method 1: Using the in-built count() method.\n",
        "Approach:\n",
        "Read the file.\n",
        "Store the content of the file in a variable.\n",
        "Use the count() method with the argument as a letter whose frequency is required.\n",
        "Display the count of the letter.\n",
        " \n",
        "Program:"
      ]
    },
    {
      "cell_type": "code",
      "metadata": {
        "colab": {
          "base_uri": "https://localhost:8080/",
          "height": 393
        },
        "id": "InwVVvcSpcvE",
        "outputId": "1fa08282-183d-4bae-9f27-c9f84c617a20"
      },
      "source": [
        "f=open(\"abc.txt\",\"w\")\n",
        "f.write(\"Welcome to python programming\")\n",
        "f.close()\n",
        " \n",
        " \n",
        "filetypes=['.py','.c','.txt']\n",
        "fn=input(\"Enter file name\")\n",
        "f=open(fn,\"r\")\n",
        "count=dict()\n",
        "for ft in filetypes:\n",
        "    if(ft in fn):\n",
        "      if(ft=='.py'):\n",
        "        print(\"Python file\")\n",
        "      elif(ft=='.c'):\n",
        "        print(\"C file\")\n",
        "      elif(ft=='.txt'):\n",
        "        print(\"Text file\")\n",
        "for line in f:\n",
        "     for ch in line:\n",
        "        if ch in count:\n",
        "           count[ch]=count[ch]+1\n",
        "        else:\n",
        "           count[ch]=1\n",
        "print(count)\n",
        "f.close()"
      ],
      "execution_count": null,
      "outputs": [
        {
          "name": "stdout",
          "output_type": "stream",
          "text": [
            "Enter file name34\n"
          ]
        },
        {
          "ename": "FileNotFoundError",
          "evalue": "ignored",
          "output_type": "error",
          "traceback": [
            "\u001b[0;31m---------------------------------------------------------------------------\u001b[0m",
            "\u001b[0;31mFileNotFoundError\u001b[0m                         Traceback (most recent call last)",
            "\u001b[0;32m<ipython-input-5-739cd9f60cab>\u001b[0m in \u001b[0;36m<module>\u001b[0;34m()\u001b[0m\n\u001b[1;32m      6\u001b[0m \u001b[0mfiletypes\u001b[0m\u001b[0;34m=\u001b[0m\u001b[0;34m[\u001b[0m\u001b[0;34m'.py'\u001b[0m\u001b[0;34m,\u001b[0m\u001b[0;34m'.c'\u001b[0m\u001b[0;34m,\u001b[0m\u001b[0;34m'.txt'\u001b[0m\u001b[0;34m]\u001b[0m\u001b[0;34m\u001b[0m\u001b[0;34m\u001b[0m\u001b[0m\n\u001b[1;32m      7\u001b[0m \u001b[0mfn\u001b[0m\u001b[0;34m=\u001b[0m\u001b[0minput\u001b[0m\u001b[0;34m(\u001b[0m\u001b[0;34m\"Enter file name\"\u001b[0m\u001b[0;34m)\u001b[0m\u001b[0;34m\u001b[0m\u001b[0;34m\u001b[0m\u001b[0m\n\u001b[0;32m----> 8\u001b[0;31m \u001b[0mf\u001b[0m\u001b[0;34m=\u001b[0m\u001b[0mopen\u001b[0m\u001b[0;34m(\u001b[0m\u001b[0mfn\u001b[0m\u001b[0;34m,\u001b[0m\u001b[0;34m\"r\"\u001b[0m\u001b[0;34m)\u001b[0m\u001b[0;34m\u001b[0m\u001b[0;34m\u001b[0m\u001b[0m\n\u001b[0m\u001b[1;32m      9\u001b[0m \u001b[0mcount\u001b[0m\u001b[0;34m=\u001b[0m\u001b[0mdict\u001b[0m\u001b[0;34m(\u001b[0m\u001b[0;34m)\u001b[0m\u001b[0;34m\u001b[0m\u001b[0;34m\u001b[0m\u001b[0m\n\u001b[1;32m     10\u001b[0m \u001b[0;32mfor\u001b[0m \u001b[0mft\u001b[0m \u001b[0;32min\u001b[0m \u001b[0mfiletypes\u001b[0m\u001b[0;34m:\u001b[0m\u001b[0;34m\u001b[0m\u001b[0;34m\u001b[0m\u001b[0m\n",
            "\u001b[0;31mFileNotFoundError\u001b[0m: [Errno 2] No such file or directory: '34'"
          ]
        }
      ]
    },
    {
      "cell_type": "markdown",
      "metadata": {
        "id": "nTw8Rzhrp3dO"
      },
      "source": [
        " EXCERCISE-7 Files\n",
        " \n",
        "a) Write a program to print each line of a file in reverse order.\n",
        " \n",
        "Aim:\n",
        " \n",
        "Write a program to print each line of a file in reverse order.\n",
        " \n",
        "DESCRIPTION:\n",
        " \n",
        "The file handling plays an important role when the data needs to be stored permanently into the file. A file is a named location on disk to store related information. We can access the stored information (non-volatile) after the program termination. In Python, files are treated in two modes as text or binary. The file may be in the text or binary format, and each line of a file is ended with the special character. Hence, a file operation can be done in the following order.\n",
        " Open a file\n",
        " Read or write - Performing operation\n",
        " Close the file\n",
        " \n",
        "Program:"
      ]
    },
    {
      "cell_type": "code",
      "metadata": {
        "colab": {
          "base_uri": "https://localhost:8080/"
        },
        "id": "6Yor3ObRqEaz",
        "outputId": "421cb10c-637b-4b33-b84f-669d18876581"
      },
      "source": [
        "f=open(\"abc.txt\",\"w\")\n",
        "f.write(\"Welcome to python programming\")\n",
        "f.close()\n",
        " \n",
        "obj=open(\"abc.txt\",\"r\")\n",
        "if obj:\n",
        "    st=obj.read()\n",
        "    print(\"File content is: \\n\",st)\n",
        "obj.close()\n",
        "print()\n",
        "lines=st.split('\\n')\n",
        " \n",
        "for ln in lines:\n",
        "    i=len(ln)-1\n",
        "    while(i>=0):\n",
        "        print(ln[i],end='')\n",
        "        i=i-1\n",
        "    print()"
      ],
      "execution_count": null,
      "outputs": [
        {
          "name": "stdout",
          "output_type": "stream",
          "text": [
            "File content is: \n",
            " Welcome to python programming\n",
            "\n",
            "gnimmargorp nohtyp ot emocleW\n"
          ]
        }
      ]
    },
    {
      "cell_type": "markdown",
      "metadata": {
        "id": "MbUqyn48qrUc"
      },
      "source": [
        " 7b)Write a program to compute the number of characters,words and lines in a file.\n",
        " \n",
        "Aim:\n",
        " \n",
        "Write a program to compute the number of characters,words and lines in a file.\n",
        " \n",
        "DESCRIPTION:\n",
        " \n",
        "Given a text file fname, the task is to count the total number of characters, words, spaces and lines in the file.\n",
        "As we know, Python provides multiple in-built features and modules for handling files. Let’s discuss different ways to calculate total number of characters, words, spaces and lines in a file using Python.\n",
        "Method #1: Naive approach\n",
        "In this approach, the idea is to solve the task by developing our own logic. Without using any built-in function of Python, the total number of characters, words, spaces and lines of the file will be calculated.\n",
        "Method #2: Using some built-in functions \n",
        " \n",
        "In this approach, the idea is to use the os.linesep() method of OS module to separate the lines on the current platform. When the interpreter’s scanner encounter os.linesep it replaces it with \\n character. After that strip() and split() functions will be used to carry out the task.\n",
        " \n",
        "PROGRAM:"
      ]
    },
    {
      "cell_type": "code",
      "metadata": {
        "id": "DYYCrxQ_tZan"
      },
      "source": [
        "f=open(\"abc.txt\",\"w\")\n",
        "lst=[\"Welcome\",\" to\",\" python\",\" programming\",\"\\n\",\"Swarnandhra \",\"college\",\"of\",\"and\",\"engineering \",\"technology\"]\n",
        "f.writelines(lst)\n",
        "f.close()\n",
        " \n",
        " \n",
        "nl=nc=nw=0\n",
        "obj=open(\"abc.txt\",\"r\")\n",
        "lines=obj.readlines()\n",
        " \n",
        "for ln in lines:\n",
        "    nl+=1                #count lines\n",
        "    words=ln.split()      #split words\n",
        "    nw+=len(words)       #count words\n",
        "    nc+=len(ln)           #count characters\n",
        "obj.close()\n",
        "print(\"Number of lines: \",nl)\n",
        "print(\"Number of words: \",nw)\n",
        "print(\"Number of characters: \",nc)"
      ],
      "execution_count": null,
      "outputs": []
    },
    {
      "cell_type": "code",
      "metadata": {
        "id": "D7b52eIgrefM"
      },
      "source": [
        ""
      ],
      "execution_count": null,
      "outputs": []
    },
    {
      "cell_type": "code",
      "metadata": {
        "colab": {
          "base_uri": "https://localhost:8080/"
        },
        "id": "eA729o5r5fHt",
        "outputId": "61a74265-9045-4993-bce7-aeb3313e644c"
      },
      "source": [
        "import math\n",
        "def ballcollide(b1tup,b2tup):\n",
        "    x1=b1tup[0]\n",
        "    y1=b1tup[1]\n",
        "    x2=b2tup[0]\n",
        "    y2=b2tup[1]\n",
        "    r1=b1tup[2]\n",
        "    r2=b2tup[2]\n",
        " \n",
        " \n",
        "    d=math.sqrt((x2-x1)**2+(y2-y1)**2)\n",
        "    if(d<=r1+r2):\n",
        "      return True\n",
        "    else:\n",
        "        return False\n",
        " \n",
        " \n",
        "ball1=(1,2,3)\n",
        "ball2=(3,2,1)\n",
        "c=ballcollide(ball1,ball2)\n",
        "if(c):\n",
        "    print(\"balls are collided\")\n",
        "else:\n",
        "    print(\"ball are not collided\")"
      ],
      "execution_count": null,
      "outputs": [
        {
          "name": "stdout",
          "output_type": "stream",
          "text": [
            "balls are collided\n"
          ]
        }
      ]
    },
    {
      "cell_type": "markdown",
      "metadata": {
        "id": "BR9B7a4duGWA"
      },
      "source": [
        " EXCERCISE-8 Functions'\n",
        " \n",
        "a) Write a function ball collide that takes two balls as parameters and computes if they arecolliding. Your function should return a Boolean representing whether or not the balls arecolliding.\n",
        " \n",
        "Hint: Represent a ball on a plane as a tuple of (x, y, r), r being the radius If (distance between two balls centers) <= (sum of their radii) then (they are colliding)\n",
        " \n",
        "Aim:\n",
        " \n",
        "Write a function ball collide that takes two balls as parameters and computes if they are colliding. Your function should return a Boolean representing whether or not the balls are colliding. \n",
        " \n",
        "DESCRIPTION:\n",
        " \n",
        "Functions A function in python is a block of code that is defined for doing frequent operations in a particular task. The general format is\n",
        "def Functionname(arguments):\n",
        "Statements Calling a Function:\n",
        "A function can be called by its name followed by arguments within parenthesis.\n",
        "function()\n",
        " \n",
        "PROGRAM:"
      ]
    },
    {
      "cell_type": "code",
      "metadata": {
        "colab": {
          "background_save": true
        },
        "id": "UwBTMh4xuXZy",
        "outputId": "c5c71d2c-cec4-444b-d2bb-fd1691396a27"
      },
      "source": [
        "# ball collide\n",
        " \n",
        " \n",
        "#ball-1--->x1,y1,r1   ---->tuple-1\n",
        "#ball-2--->x2,y2,r2   ---->tuple-2\n",
        "import math\n",
        "def collide(ball_tup1,ball_tup2):\n",
        "    x1,y1,r1=ball_tup1\n",
        "    x2,y2,r2=ball_tup2\n",
        "    print(\"Ball_1: \",ball_tup1)\n",
        "    print(x1,y1,r1,sep=' ')\n",
        "    print(\"Ball_2: \",ball_tup2)\n",
        "    print(x2,y2,r2,sep=' ')\n",
        "    d=math.sqrt((x2-x1)**2 + (y2-y1)**2) \n",
        "    print(\"Centroid distance of two balls: \",d)\n",
        "    if d<=r1+r2:\n",
        "        return True\n",
        "    else:\n",
        "        return False\n",
        "b1=(-2,-4,3)\n",
        "b2=(4,6,3)\n",
        "if collide(b1,b2):\n",
        "        print(\"Balls are collide...\")\n",
        "else:\n",
        "        print(\"Balls are not collide"
      ],
      "execution_count": null,
      "outputs": [
        {
          "ename": "SyntaxError",
          "evalue": "ignored",
          "output_type": "error",
          "traceback": [
            "\u001b[0;36m  File \u001b[0;32m\"<ipython-input-8-c68bb7f48bc4>\"\u001b[0;36m, line \u001b[0;32m25\u001b[0m\n\u001b[0;31m    print(\"Balls are not collide\u001b[0m\n\u001b[0m                                ^\u001b[0m\n\u001b[0;31mSyntaxError\u001b[0m\u001b[0;31m:\u001b[0m EOL while scanning string literal\n"
          ]
        }
      ]
    },
    {
      "cell_type": "markdown",
      "metadata": {
        "id": "0ImVsk2L6-w0"
      },
      "source": [
        " Exercise -9  Functions - Continued\n",
        " \n",
        " \n",
        "a) Write a function nearly equal to test whether two strings are nearly equal. Two strings a and bare nearly equal when a can be generated by a single mutation on b\n",
        " \n",
        "Aim:\n",
        " \n",
        "Write a function nearly equal to test whether two strings are nearly equal.two strings a and b are nearly equal when a can be generated by a single mutation on b.\n",
        " \n",
        "DESCRIPTION:\n",
        " \n",
        " \n",
        "strlen() function is used to check wether the two string are nearly equal or not by basis of the Length of those Strings\n",
        " \n",
        "len() function is an inbuilt function in Python programming language that returns the length of the string.\n",
        " \n",
        "len() is a built-in function in python.You can use the len() to get the length of the given string, array, list, tuple, dictionary, etc.\n",
        " \n",
        "Value: the given value you want the length of.\n",
        " \n",
        "Return value a return an integer value i.e. the length of the given string, or array, or list, or collections.\n",
        " \n",
        "Syntax:\n",
        " \n",
        "len(string)\n",
        " \n",
        "PROGRAM"
      ]
    },
    {
      "cell_type": "code",
      "metadata": {
        "colab": {
          "base_uri": "https://localhost:8080/"
        },
        "id": "Iy7zobr15rfH",
        "outputId": "70b86ed3-01f6-4093-bddc-0f47c567771e"
      },
      "source": [
        "def nearlyeq(str1,str2):\n",
        "    count=0\n",
        "    i=j=0\n",
        "    ss=0\n",
        "    while(i<len(str1)and j<len(str2)):\n",
        "        if(str1[i]!=str2[j]):\n",
        "            count+=1\n",
        "        if(len(str1)>len(str2)):\n",
        "            i+=1\n",
        " \n",
        "        elif(len(str1)==len(str2)):\n",
        "            pass\n",
        "        else:\n",
        "            i-=1     \n",
        "        if(count>1):\n",
        "             ss-=1\n",
        "             \n",
        "        i+=1\n",
        "        j+=1\n",
        "        if(count<2):\n",
        "             ss+=1\n",
        " \n",
        "    return ss\n",
        "s1=input(\"enter a string 1:\")\n",
        "s2=input(\"enter the string2:\")\n",
        "t=nearlyeq(s1,s2)\n",
        "if(t>1):\n",
        "    print(\"neraly equal0\")\n",
        "else:\n",
        "    print(\"not nearly equal\")"
      ],
      "execution_count": null,
      "outputs": [
        {
          "name": "stdout",
          "output_type": "stream",
          "text": [
            "enter a string 1:Liki\n",
            "enter the string2:Tha\n",
            "not nearly equal\n"
          ]
        }
      ]
    },
    {
      "cell_type": "markdown",
      "metadata": {
        "id": "Cx3Wl6sm7IW8"
      },
      "source": [
        " b)write a function dup to find all duplicates in the list.\n",
        " \n",
        "Aim:\n",
        " \n",
        "write a function dup to find all duplicates in the list\n",
        " \n",
        "DESCRIPTION:\n",
        " \n",
        " \n",
        "To check if a list contains any duplicate element follow the following steps,\n",
        " \n",
        "Add the contents of list in a set.\n",
        " \n",
        "As set contains only unique elements, so no duplicates will be added the the set.\n",
        " \n",
        "Compare the size of set and list.\n",
        " \n",
        " If size of list & set is equal then it means no duplicates in list.\n",
        " \n",
        " \n",
        "If size of list & set are different then it means yes, there are duplicates in list.\n",
        " \n",
        "Program:"
      ]
    },
    {
      "cell_type": "code",
      "metadata": {
        "id": "lSSWkfvN7xxg"
      },
      "source": [
        "def dups(numlist):\n",
        "  temp=[]\n",
        "  for i in numlist:\n",
        "    cnt=numlist.count(i)\n",
        "    if(cnt>1 and(i not in temp)):\n",
        "      temp.append(i)\n",
        "  print(\"Duplicates in the list: \",temp)\n",
        "lst=[1,2,6,9,9,1,3,5,5,2,1]\n",
        "print(\"given elements in the list: \",lst)\n",
        "dups(lst)"
      ],
      "execution_count": null,
      "outputs": []
    },
    {
      "cell_type": "markdown",
      "metadata": {
        "id": "KBrR6nyF7phh"
      },
      "source": [
        " c)write a function unique to find all unique elements in the list.\n",
        " \n",
        "Aim:\n",
        " \n",
        " \n",
        "write a function unique to find all unique elements in the list.\n",
        " \n",
        "DESCRIPTION:\n",
        " \n",
        " \n",
        "To find the unique in the list .There is a Specific Method i.e.,\n",
        " \n",
        "Method : Traversal of list\n",
        " \n",
        "Using traversal, we can traverse for every element in the list and check if the element is in the unique_list already if it is not over there, then we can append it in the unique_list.\n",
        " \n",
        "This is done using one for loop and other if statement which check if the value is in the unique list or not which is equivalent to another for loop.\n",
        " \n",
        "Program:"
      ]
    },
    {
      "cell_type": "code",
      "metadata": {
        "colab": {
          "base_uri": "https://localhost:8080/"
        },
        "id": "wn6jz6gW55k5",
        "outputId": "54000d01-bc2c-4fc8-b472-54f8ee7b830f"
      },
      "source": [
        "def unique(list1):\n",
        "  list2={}\n",
        " \n",
        "  for i in list1:\n",
        "    c=list1.count(i)\n",
        "    if c==1:\n",
        "      list2[i]=c\n",
        "  print(\"the unique elements in the list are:\",list2)\n",
        " \n",
        "list=[1,2,3,45,45,6,88,88,9]\n",
        "unique(list)"
      ],
      "execution_count": null,
      "outputs": [
        {
          "name": "stdout",
          "output_type": "stream",
          "text": [
            "the unique elements in the list are: {1: 1, 2: 1, 3: 1, 6: 1, 9: 1}\n"
          ]
        }
      ]
    },
    {
      "cell_type": "markdown",
      "metadata": {
        "id": "OrxdJEIV79m-"
      },
      "source": [
        " Exercise - 10\n",
        " \n",
        "Functions - Problem Solving\n",
        " \n",
        "a) Write a function cumulative product to compute cumulative product of a list of numbers.\n",
        " \n",
        " \n",
        "Aim:\n",
        " \n",
        " \n",
        "Write a function cumulative product to compute cumulative product of a list of numbers.\n",
        " \n",
        "DESCRIPTION:\n",
        " \n",
        " \n",
        "A cumulative product is a sequence of partial products of a given sequence. For example, the cumulative products of the sequence. , are , , .. Cumulative products can be implemented in the Wolfram Language as Rest[FoldList[Times, 1, list]]\n",
        " \n",
        "cumprod(A,1) works on successive elements in the columns of A and returns the cumulative products of each column. cumprod(A,2) works on successive elements in the rows of A and returns the cumulative products of each row.\n",
        " \n",
        "umprod() function is used when we want to compute the cumulative product of array elements over a given axis. Syntax : numpy.cumprod(arr, axis=None, dtype=None, out=None) Parameters : arr : [array_like] Array containing numbers whose cumulative product is desired.\n",
        " \n",
        "PROGRAM"
      ]
    },
    {
      "cell_type": "code",
      "metadata": {
        "id": "sRd4uYj08Sxe"
      },
      "source": [
        "def cum_prod(numlist):\n",
        "  prod=1\n",
        "  temp=[]\n",
        "  for i in numlist:\n",
        "    prod*=i\n",
        "    temp.append(prod)\n",
        "  return temp\n",
        "lst=[1,2,4,5,3]\n",
        "print(\"Given list is : \",lst)\n",
        "print(\"Cumulative product is: \",cum_prod(lst))"
      ],
      "execution_count": null,
      "outputs": []
    },
    {
      "cell_type": "markdown",
      "metadata": {
        "id": "fZ-dBixP8dCu"
      },
      "source": [
        "  b)Write a function reverse to reverse a list. without using the reverse function.\n",
        " \n",
        "Aim:\n",
        " \n",
        " \n",
        "Write a function reverse to reverse a list. without using the reverse function.\n",
        " \n",
        "DESCRIPTION:\n",
        " \n",
        " \n",
        "In this Python code snippet post, we are going to implement a list reverse function from the scratch without using any builtin functions.\n",
        " \n",
        "Let us see how…\n",
        " \n",
        "Iterative solution\n",
        " \n",
        "We can use a for loop to swap the first and last items, the second and the one before the last item and so on until the list is reversed in place. The number of iterations needed is half the list size. If the list has an odd number of items then the middle item will stay in its place.\n",
        " \n",
        "Program:"
      ]
    },
    {
      "cell_type": "code",
      "metadata": {
        "colab": {
          "base_uri": "https://localhost:8080/"
        },
        "id": "7sRGSOn96Ppm",
        "outputId": "9c215d45-7037-4474-d71f-9eeb3bbb3134"
      },
      "source": [
        "def reverse_list(numlist):\n",
        "    temp=list1[::-1]\n",
        "    numlist=temp\n",
        "    return temp\n",
        "list1=[1,2,3,4]\n",
        "print(\"giiven list is :\",list1)\n",
        "print(\"after reverse function:\",reverse_list(list1))\n",
        "print(\"after list is:\",list1)"
      ],
      "execution_count": null,
      "outputs": [
        {
          "name": "stdout",
          "output_type": "stream",
          "text": [
            "giiven list is : [1, 2, 3, 4]\n",
            "after reverse function: [4, 3, 2, 1]\n",
            "after list is: [1, 2, 3, 4]\n"
          ]
        }
      ]
    },
    {
      "cell_type": "markdown",
      "metadata": {
        "id": "rbmPPYQn8ew1"
      },
      "source": [
        "  c)Write a function to compute gcd,lcm of two numbers.Each function shouldn't exceed one line.\n",
        " \n",
        " \n",
        "Aim:\n",
        " \n",
        " \n",
        "Write a function to compute gcd,lcm of two numbers.Each function shouldn't exceed one line.\n",
        " \n",
        "DESCRIPTION:\n",
        " \n",
        " \n",
        "Python provides you an anonymous function called lambda. It can take any number of arguments, but can only have one expression. It can be used to find LCM and GCD values without exceeding each from from one line.\n",
        " \n",
        " \n",
        "The general format is\n",
        " \n",
        " \n",
        "lambda arguments: expression\n",
        " \n",
        " \n",
        "The expression is executed during the function call and the result is returned.\n",
        " \n",
        " \n",
        "Lambda as a Function\n",
        " \n",
        " \n",
        "The power of using a lambda expression is implementing it using a function\n",
        " \n",
        " \n",
        "Program:"
      ]
    },
    {
      "cell_type": "code",
      "metadata": {
        "colab": {
          "base_uri": "https://localhost:8080/"
        },
        "id": "biD9S78-6XAK",
        "outputId": "4d31a003-12f5-4e69-bbd1-86018a2d06c7"
      },
      "source": [
        "gcd=lambda a,b: a if b==0 else gcd(a,a%b)\n",
        "lcm=lambda a,b: (a*b)/gcd(a,b)\n",
        " \n",
        "x=2\n",
        "y=32\n",
        "print(\"gcd=\",gcd(x,y))\n",
        "print(\"lcm=\",lcm(x,y))"
      ],
      "execution_count": null,
      "outputs": [
        {
          "name": "stdout",
          "output_type": "stream",
          "text": [
            "gcd= 2\n",
            "lcm= 32.0\n"
          ]
        }
      ]
    },
    {
      "cell_type": "markdown",
      "metadata": {
        "id": "O6offhlq8yni"
      },
      "source": [
        " Exercise-11-Multi-D-Lists\n",
        " \n",
        "a) write a program that defines a matrix and prints\n",
        " \n",
        "Aim:\n",
        " \n",
        " \n",
        "Write a program that defines a matrix and prints.\n",
        " \n",
        " \n",
        "DESCRIPTION:\n",
        " \n",
        " \n",
        "Lists are a very widely use data structure in python. They contain a list of elements separated by comma. But sometimes lists can also contain lists within them. These are called nested lists or multidimensional lists. In this article we will see how to create and access elements in a multidimensional list.\n",
        " \n",
        "Methods on Multidimensional lists\n",
        " \n",
        "append(): Adds an element at the end of the list.\n",
        " \n",
        "extend(): Add the elements of a list (or any iterable), to the end of the current list.\n",
        " \n",
        "reverse(): Reverses the order of the list.\n",
        " \n",
        "PROGRAM:"
      ]
    },
    {
      "cell_type": "code",
      "metadata": {
        "colab": {
          "base_uri": "https://localhost:8080/"
        },
        "id": "sqvGaNSO6fMk",
        "outputId": "730475cb-a837-4abe-ee93-cadf69f4ed0b"
      },
      "source": [
        "matA=[[]]\n",
        "rows=int(input(\"Enter row size of matrix: \"))\n",
        "cols=int(input(\"Enter column size of matrix: \"))\n",
        "matA=[[int(input(\"Enter[%d,%d] value: \"%(i,j)))for j in range(cols)]for i in range(rows)]\n",
        "print(\"matrix is: \")\n",
        "for i in range(rows):\n",
        "  for j in range(cols):\n",
        "    print(matA[i][j],end='\\t')\n",
        "  print()"
      ],
      "execution_count": null,
      "outputs": [
        {
          "name": "stdout",
          "output_type": "stream",
          "text": [
            "Enter row size of matrix: 2\n",
            "Enter column size of matrix: 2\n",
            "Enter[0,0] value: 1\n",
            "Enter[0,1] value: 2\n",
            "Enter[1,0] value: 3\n",
            "Enter[1,1] value: 4\n",
            "matrix is: \n",
            "1\t2\t\n",
            "3\t4\t\n"
          ]
        }
      ]
    },
    {
      "cell_type": "markdown",
      "metadata": {
        "id": "rwn-M8DK84vy"
      },
      "source": [
        " b)Write a program to perform addition of two square matrices.\n",
        " \n",
        " \n",
        "Aim:\n",
        " \n",
        " \n",
        "Write a program to perform addition of two square matrices.\n",
        " \n",
        " \n",
        "DESCRIPTION:\n",
        " \n",
        " \n",
        "We can perform matrix addition in following ways in Python.\n",
        " \n",
        "Using for loop: Explanation :- In this program we have used nested for loops to iterate through each row and each column. At each point we add the corresponding elements in the two matrices and store it in the result.\n",
        " \n",
        "Using nested list comprehension :\n",
        " \n",
        "In Python, we can implement a matrix as nested list (list inside a list). We can treat each element as a row of the matrix.\n",
        " \n",
        "Explanation :-\n",
        " \n",
        " \n",
        "The output of this program is the same as above. We have used nested list comprehension to iterate through each element in the matrix. List comprehension allows us to write concise codes and we must try to use them frequently in Python. They are very helpful.\n",
        " \n",
        "uising zip function Explanation :\n",
        " \n",
        "The zip function accepts iterator i of each element(list) of matrix, mapping them, adding them using sum() and storing them in the map form.\n",
        " \n",
        "Program:"
      ]
    },
    {
      "cell_type": "code",
      "metadata": {
        "colab": {
          "base_uri": "https://localhost:8080/"
        },
        "id": "dYf-td4y6uX0",
        "outputId": "ae40dd03-35bd-44b5-bd3b-ede9c48cb21e"
      },
      "source": [
        "def matRead(r,c):\n",
        "  return[[int(input(\"[%d,%d]value:\"%(i,j)))for j in range(c)]for i in range(r)]\n",
        "def matDisp(mat,r,c):\n",
        "  for i in range(r):\n",
        "    for j in range(c):\n",
        "      print(mat[i][j],end='\\t')\n",
        "    print()\n",
        "matA=[[]]\n",
        "matB=[[]]       \n",
        "matSum=[[]]\n",
        "rows=int(input(\"Enter row size of the matrix: \"))\n",
        "cols=int(input(\"Enter column size of the matrix: \"))\n",
        "if rows==cols:\n",
        "  print(\"Enter Matrix-A elements: \")\n",
        "  matA=matRead(rows,cols)\n",
        " \n",
        "  print(\"Enter Matrix-B elements: \")\n",
        "  matB=matRead(rows,cols)\n",
        " \n",
        "  print(\"Matrix-A is: \")\n",
        "  matDisp(matA,rows,cols)\n",
        " \n",
        "  print(\"Matrix-B is: \")\n",
        "  matDisp(matB,rows,cols)\n",
        "  matSum=[[matA[i][j]+matB[i][j]for j in range(cols)]for i in range(rows)]\n",
        "  print(\"sum of matrices is: \")\n",
        "  matDisp(matSum,rows,cols)\n",
        "else:\n",
        "  print(\"Matrices addition is not possible\")"
      ],
      "execution_count": null,
      "outputs": [
        {
          "name": "stdout",
          "output_type": "stream",
          "text": [
            "Enter row size of the matrix: 2\n",
            "Enter column size of the matrix: 2\n",
            "Enter Matrix-A elements: \n",
            "[0,0]value:1\n",
            "[0,1]value:2\n",
            "[1,0]value:3\n",
            "[1,1]value:4\n",
            "Enter Matrix-B elements: \n",
            "[0,0]value:4\n",
            "[0,1]value:3\n",
            "[1,0]value:2\n",
            "[1,1]value:1\n",
            "Matrix-A is: \n",
            "1\t2\t\n",
            "3\t4\t\n",
            "Matrix-B is: \n",
            "4\t3\t\n",
            "2\t1\t\n",
            "sum of matrices is: \n",
            "5\t5\t\n",
            "5\t5\t\n"
          ]
        }
      ]
    },
    {
      "cell_type": "markdown",
      "metadata": {
        "id": "kcyKe8tR9AQQ"
      },
      "source": [
        " c)write a program to perform multiplication of two square matrices.\n",
        " \n",
        " \n",
        "Aim:\n",
        " \n",
        " \n",
        "write a program to perform multiplication of two square matrices.\n",
        " \n",
        "DESCRIPTION:\n",
        " \n",
        " \n",
        "In Python, we can implement a matrix as nested list (list inside a list).\n",
        " \n",
        "We can treat each element as a row of the matrix.\n",
        " \n",
        "For example X = [[1, 2], [4, 5], [3, 6]] would represent a 3x2 matrix.\n",
        " \n",
        "The first row can be selected as X[0]. And, the element in first row, first column can be selected as X[0][0].\n",
        " \n",
        "Multiplication of two matrices X and Y is defined only if the number of columns in X is equal to the number of rows Y.\n",
        " \n",
        "If X is a n x m matrix and Y is a m x l matrix then, XY is defined and has the dimension n x l (but YX is not defined). Here are a couple of ways to implement matrix multiplication in Python.\n",
        " \n",
        "PROGRAM:"
      ]
    },
    {
      "cell_type": "code",
      "metadata": {
        "colab": {
          "base_uri": "https://localhost:8080/"
        },
        "id": "yIUN2BCV68pu",
        "outputId": "5d892c8c-5a2c-4030-b99a-80f02576fc63"
      },
      "source": [
        "def  matRead(r,c):  \n",
        "  return[[int(input(\"[%d,%d]value: \"%(i,j)))for j in range(c)]for i in range(r)]\n",
        "def matDisp(mat,r,c):\n",
        "  for i in range(r):\n",
        "    for j in range(c):\n",
        "      print(mat[i][j],end='\\t')\n",
        "matA=[[]]\n",
        "matB=[[]]\n",
        "matMul=[[]]\n",
        "rows=int(input(\"Enter row size of the Matrix: \"))\n",
        "cols=int(input(\"Enter column size of the Matrix: \"))\n",
        " \n",
        "if rows==cols:\n",
        "  print(\"Enter Matrix-A: \")\n",
        "  matA=matRead(rows,cols)\n",
        "  print(\" Enter Matrix-B: \")\n",
        "  matB=matRead(rows,cols)\n",
        " \n",
        "  matMul=[[0 for j in range(cols)]for i in range(rows)]\n",
        "  for i in range(rows):\n",
        "    for j in range(cols):\n",
        "      for k in range(cols):\n",
        "        matMul[i][j]+=matA[i][k]*matB[k][j]\n",
        "  print(\"Matrix-A is: \")\n",
        "  matDisp(matA,rows,cols)\n",
        " \n",
        "  print(\"Matrix-B is: \")\n",
        "  matDisp(matB,rows,cols)\n",
        " \n",
        "  print(\"Multiplication of matrices is: \")\n",
        "  matDisp(matMul,rows,cols)\n",
        "else:\n",
        "  print(\"Matrices Multiplication is not possible is\")"
      ],
      "execution_count": null,
      "outputs": [
        {
          "name": "stdout",
          "output_type": "stream",
          "text": [
            "Enter row size of the Matrix: 1\n",
            "Enter column size of the Matrix: 2\n",
            "Matrices Multiplication is not possible is\n"
          ]
        }
      ]
    },
    {
      "cell_type": "markdown",
      "metadata": {
        "id": "-_nKJLSK9OIU"
      },
      "source": [
        " Exercise - 12 : Modules\n",
        " \n",
        " \n",
        "a) Install packages requests, flask and explore them. using (pip)\n",
        " \n",
        "Aim:\n",
        " \n",
        "Install packages requests, flask and explore them. using (pip)\n",
        " \n",
        "DESCRIPTION:\n",
        " \n",
        " \n",
        "Installing the pip Python package manager on Windows If you are on Windows, and your installed Python the current version, you already have pip! If your Python installation is not the most recent, the easiest thing to do is to simply reinstall it. Download the Python Windows installer at https://www.python.org/downloads/.\n",
        " \n",
        " \n",
        "In Windows, the variable that controls which programs are accessible from the command line is path. To modify your path to include Python and pip, we have to add C:\\Python27 and C:\\Python27\\Tools. Edit the Windows path by opening the Windows menu, right-clicking on Computer and clicking on Properties. Under Advanced system settings, click Environment Variables.... Scroll down until you find Path, double-click it, and add ;C:\\Python27;C:\\Python27\\Tools to the end.\n",
        " \n",
        " \n",
        "Installing packages:\n",
        " \n",
        " \n",
        " \n",
        "Suppose you want to install a package called requests (which is used to make HTTP requests). You need to issue the following command.\n",
        " \n",
        " \n",
        "pip install requests\n",
        " \n",
        " \n",
        "show installed packages\n",
        " \n",
        " \n",
        "You can use the following command to get information about a installed package, i.e Package name, version, location, dependencies.\n",
        " \n",
        " \n",
        "pip show package_name\n",
        " \n",
        " \n",
        "install flask\n",
        " \n",
        " \n",
        "On Mac and Linux, because you are installing programs outside the user-owned folders, you might have to prepend sudo to the install commands. To install Flask, simply run this:\n",
        " \n",
        " \n",
        "$ pip install flask\n",
        " \n",
        " \n",
        "show installed flask\n",
        " \n",
        " \n",
        "You can use the following command to get information about a installed flask, i.e Package name, version, location, dependencies\n",
        " \n",
        "$ pip show flask\n",
        " \n",
        " \n",
        " \n",
        "PROGRAM:\n",
        "The reuests and flask packages are download from internet using the following commandscommands\n",
        " \n",
        " \n",
        "c:\\python 3.9\\scripts>pip install requests\n",
        " \n",
        "c:\\python 3.9\\scripts>pip show requests\n",
        " \n",
        "c:\\python 3.9\\scripts>pip install flask\n",
        " \n",
        "c:\\python 3.9\\scripts>pip show flask\n",
        " \n",
        "https://drive.google.com/file/d/1H1xDdPf3STLM8BivVum2IE9DHUaVUov5/view?usp=sharing\n",
        " \n",
        "https://drive.google.com/file/d/1s7OuAcNw0mleuB1PE6DnN93fDFzHaDCd/view?usp=sharing\n",
        " \n",
        "https://drive.google.com/file/d/1Y5tZqVGVbtNItIsEVKmmv_VCtHo_Gieq/view?usp=sharing\n",
        " \n",
        "https://drive.google.com/file/d/111lqK5HU4_SpTlOQ_52nEn5g41X-ESkI/view?usp=sharing"
      ]
    },
    {
      "cell_type": "markdown",
      "metadata": {
        "id": "exPj5nM_9fdw"
      },
      "source": [
        " b) Write a script that imports requests and fetch content from the page. Eg. (Wiki)\n",
        " \n",
        "Aim:\n",
        " \n",
        " \n",
        "Write a script that imports requests and fetch content from the page. Eg. (Wiki)\n",
        " \n",
        " \n",
        "DESCRIPTION:\n",
        " \n",
        " \n",
        "The Hypertext Transfer Protocol (HTTP) is an application protocol for distributed, collaborative, hypermedia information systems. HTTP is the foundation of data communication for the World Wide Web.\n",
        " \n",
        "Python requests\n",
        " \n",
        "Requests is a simple and elegant Python HTTP library. It provides methods for accessing Web resources via HTTP.\n",
        " \n",
        "Python requests reading a web page\n",
        " \n",
        "The get() method issues a GET request; it fetches documents identified by the given URL.\n",
        " \n",
        "Program:"
      ]
    },
    {
      "cell_type": "code",
      "metadata": {
        "colab": {
          "base_uri": "https://localhost:8080/"
        },
        "id": "EKP77IEY7EDz",
        "outputId": "dd824f25-956e-4b0f-cfbf-f78c61427b1c"
      },
      "source": [
        "class Robot:\n",
        "    what=\"Machine\"\n",
        "    name=\"Chitti\"\n",
        "    version=1.0\n",
        "    speed=\"1THz\"\n",
        "    memory=\"1ZB\"\n",
        " \n",
        "    def update(upd):\n",
        "        upd.version=2.0\n",
        "        upd.speed=\"2THz\"\n",
        "        upd.memory=\"2ZB\"\n",
        " \n",
        "    def disp(self):\n",
        "        print(\"Myself is a\",robj.what)\n",
        "        print(\"MyName is a\",robj.name)\n",
        "        print(\"Version :\",robj.version)\n",
        "        print(\"Speed : \",robj.speed)\n",
        "        print(\"Memory: \",robj.memory)\n",
        " \n",
        "robj=Robot()\n",
        "robj.disp()\n",
        " \n",
        "print(\"---------------Update---------\")\n",
        "robj.update()\n",
        "robj.disp()"
      ],
      "execution_count": null,
      "outputs": [
        {
          "name": "stdout",
          "output_type": "stream",
          "text": [
            "Myself is a Machine\n",
            "MyName is a Chitti\n",
            "Version : 1.0\n",
            "Speed :  1THz\n",
            "Memory:  1ZB\n",
            "---------------Update---------\n",
            "Myself is a Machine\n",
            "MyName is a Chitti\n",
            "Version : 2.0\n",
            "Speed :  2THz\n",
            "Memory:  2ZB\n"
          ]
        }
      ]
    },
    {
      "cell_type": "code",
      "metadata": {
        "colab": {
          "base_uri": "https://localhost:8080/"
        },
        "id": "xNlShtQi7JaK",
        "outputId": "178ef587-cb4f-4e32-a411-2f40f2754e24"
      },
      "source": [
        "class ATM:\n",
        "    def __init__(self):\n",
        "        self.balance=0\n",
        "        print(\"New Account\")\n",
        "        \n",
        "    def enquire(self):\n",
        "        print(\"Balance: \",self.balance)\n",
        "        \n",
        "    def deposit(self):\n",
        "        amount=int(input(\"Enter the Deposit Amount:\"))\n",
        "        self.balance+=amount\n",
        "        self.enquire()\n",
        " \n",
        "    def withdraw(self):\n",
        "        amount=int(input(\"Enter the Withdraw Amount: \"))\n",
        "        if self.balance<amount:\n",
        "            print(\"Insufficient Balance.....!\")\n",
        "        else:\n",
        "            self.balance-=amount\n",
        "            self.enquire()\n",
        " \n",
        "aobj=ATM()\n",
        "while(True):\n",
        "    print(\"*****Menu****\")\n",
        "    print(\"1.Deposit\")\n",
        "    print(\"2.Withdarw\")\n",
        "    print(\"3.Balance\")\n",
        "    print(\"0.Exit\")\n",
        "    ch=int(input(\"Enter Your Choice: \"))\n",
        "    if ch==0:\n",
        "        break\n",
        "    elif ch==1:\n",
        "        aobj.deposit()\n",
        "    elif ch==2:\n",
        "        aobj.withdraw()\n",
        "    elif ch==3:\n",
        "        aobj.enquire()\n",
        "    else:\n",
        "        print(\"Invalid choice:\")\n",
        "        pass"
      ],
      "execution_count": null,
      "outputs": [
        {
          "name": "stdout",
          "output_type": "stream",
          "text": [
            "New Account\n",
            "*****Menu****\n",
            "1.Deposit\n",
            "2.Withdarw\n",
            "3.Balance\n",
            "0.Exit\n",
            "Enter Your Choice: 1\n",
            "Enter the Deposit Amount:2\n",
            "Balance:  2\n",
            "*****Menu****\n",
            "1.Deposit\n",
            "2.Withdarw\n",
            "3.Balance\n",
            "0.Exit\n",
            "Enter Your Choice: 10\n",
            "Invalid choice:\n",
            "*****Menu****\n",
            "1.Deposit\n",
            "2.Withdarw\n",
            "3.Balance\n",
            "0.Exit\n",
            "Enter Your Choice: 2\n",
            "Enter the Withdraw Amount: 10\n",
            "Insufficient Balance.....!\n",
            "*****Menu****\n",
            "1.Deposit\n",
            "2.Withdarw\n",
            "3.Balance\n",
            "0.Exit\n",
            "Enter Your Choice: 16\n",
            "Invalid choice:\n",
            "*****Menu****\n",
            "1.Deposit\n",
            "2.Withdarw\n",
            "3.Balance\n",
            "0.Exit\n",
            "Enter Your Choice: 1\n",
            "Enter the Deposit Amount:2\n",
            "Balance:  4\n",
            "*****Menu****\n",
            "1.Deposit\n",
            "2.Withdarw\n",
            "3.Balance\n",
            "0.Exit\n",
            "Enter Your Choice: 3\n",
            "Balance:  4\n",
            "*****Menu****\n",
            "1.Deposit\n",
            "2.Withdarw\n",
            "3.Balance\n",
            "0.Exit\n",
            "Enter Your Choice: 4\n",
            "Invalid choice:\n",
            "*****Menu****\n",
            "1.Deposit\n",
            "2.Withdarw\n",
            "3.Balance\n",
            "0.Exit\n",
            "Enter Your Choice: 4\n",
            "Invalid choice:\n",
            "*****Menu****\n",
            "1.Deposit\n",
            "2.Withdarw\n",
            "3.Balance\n",
            "0.Exit\n",
            "Enter Your Choice: 0\n"
          ]
        }
      ]
    },
    {
      "cell_type": "markdown",
      "metadata": {
        "id": "COBdSoro563F"
      },
      "source": [
        " Exercise 14:\n",
        " \n",
        " GUI,Graphics\n",
        " \n",
        "1. Write a GUI for an Expression Calculator using tk\n",
        " \n",
        "Aim:\n",
        " \n",
        "Write a GUI for an Expression Calculator using tk\n",
        "Aim:Write a GUI for an Expression Calculator using tk\n",
        " \n",
        "DESCRIPTION:\n",
        " \n",
        " \n",
        "Tkinter is a Python package which comes with many functions and methods that can be used to create an application. In order to create a tkinter application, we generally create an instance of tkinter frame, i.e., Tk(). It helps to display the root window and manages all the other components of the tkinter application. We can initialize the tkinter instance by assigning the variable to it.\n",
        " \n",
        "PROGRAM:"
      ]
    },
    {
      "cell_type": "code",
      "metadata": {
        "colab": {
          "base_uri": "https://localhost:8080/",
          "height": 672
        },
        "id": "b1D-gliC6L1w",
        "outputId": "e01d39c7-419c-4fbc-d0be-bb919cf42905"
      },
      "source": [
        "from tkinter import *\n",
        " \n",
        "win = tk() # to create a basic window\n",
        "win.geometry(\"312x324\")  #for the size of the window \n",
        "win.resizable(0, 0)  # to prevent from resizing the window\n",
        "win.title(\"calculator\")\n",
        " \n",
        "# 'btn_click' function continuously updates the \n",
        "# input field whenever you enters a number\n",
        " \n",
        "def btn_click(item):\n",
        "    global expression\n",
        "    expression = expression + str(item)\n",
        "    input_text.set(expression)\n",
        " \n",
        "# 'bt_clear' function : used to clear the input field\n",
        " \n",
        "def bt_clear(): \n",
        "    global expression \n",
        "    expression = \"\"\n",
        "    input_text.set(\"\")\n",
        " \n",
        "# 'bt_equal':calculates the expression present in input field\n",
        " \n",
        "def bt_equal():\n",
        "    global expression\n",
        "    result = str(eval(expression)) # 'eval':this function is used to evaluates the string expression directly\n",
        "    input_text.set(result)\n",
        "    expression = \"\"\n",
        " \n",
        "expression = \"\"\n",
        " \n",
        "# 'stringvar()' :used to get the instance of input field\n",
        " \n",
        "input_text = stringvar()\n",
        " \n",
        "# creating a frame for the input field\n",
        " \n",
        "input_frame = frame(win, width=312, height=50, bd=0, highlightbackground=\"black\", highlightcolor=\"black\", highlightthickness=2)\n",
        " \n",
        "input_frame.pack(side=top)\n",
        " \n",
        "#create a input field inside the 'frame'\n",
        " \n",
        "input_field = entry(input_frame, font=('arial', 18, 'bold'), textvariable=input_text, width=50, bg=\"#eee\", bd=0, justify=right)\n",
        " \n",
        "input_field.grid(row=0, column=0)\n",
        " \n",
        "input_field.pack(ipady=10)\n",
        "# 'ipady' is internal padding to increase the height of input field\n",
        " \n",
        "#creating another 'frame' for the button below the 'input_frame'\n",
        " \n",
        "btns_frame = frame(win, width=312, height=272.5, bg=\"grey\")\n",
        " \n",
        "btns_frame.pack()\n",
        " \n",
        "# first row\n",
        " \n",
        "clear = button(btns_frame, text = \"c\", fg = \"black\", width = 32, height = 3, bd = 0, bg = \"#eee\", cursor = \"hand2\", command = lambda: bt_clear()).grid(row = 0, column = 0, columnspan = 3, padx = 1, pady = 1)\n",
        " \n",
        "divide = button(btns_frame, text = \"/\", fg = \"black\", width = 10, height = 3, bd = 0, bg = \"#eee\", cursor = \"hand2\", command = lambda: btn_click(\"/\")).grid(row = 0, column = 3, padx = 1, pady = 1)\n",
        " \n",
        "# second row\n",
        " \n",
        "seven = button(btns_frame, text = \"7\", fg = \"black\", width = 10, height = 3, bd = 0, bg = \"#fff\", cursor = \"hand2\", command = lambda: btn_click(7)).grid(row = 1, column = 0, padx = 1, pady = 1)\n",
        " \n",
        "eight = button(btns_frame, text = \"8\", fg = \"black\", width = 10, height = 3, bd = 0, bg = \"#fff\", cursor = \"hand2\", command = lambda: btn_click(8)).grid(row = 1, column = 1, padx = 1, pady = 1)\n",
        " \n",
        "nine = button(btns_frame, text = \"9\", fg = \"black\", width = 10, height = 3, bd = 0, bg = \"#fff\", cursor = \"hand2\", command = lambda: btn_click(9)).grid(row = 1, column = 2, padx = 1, pady = 1)\n",
        " \n",
        "multiply = button(btns_frame, text = \"\", fg = \"black\", width = 10, height = 3, bd = 0, bg = \"#eee\", cursor = \"hand2\", command = lambda: btn_click(\"\")).grid(row = 1, column = 3, padx = 1, pady = 1)\n",
        " \n",
        "# third row\n",
        " \n",
        "four = button(btns_frame, text = \"4\", fg = \"black\", width = 10, height = 3, bd = 0, bg = \"#fff\", cursor = \"hand2\", command = lambda: btn_click(4)).grid(row = 2, column = 0, padx = 1, pady = 1)\n",
        " \n",
        "five = button(btns_frame, text = \"5\", fg = \"black\", width = 10, height = 3, bd = 0, bg = \"#fff\", cursor = \"hand2\", command = lambda: btn_click(5)).grid(row = 2, column = 1, padx = 1, pady = 1)\n",
        " \n",
        "six = button(btns_frame, text = \"6\", fg = \"black\", width = 10, height = 3, bd = 0, bg = \"#fff\", cursor = \"hand2\", command = lambda: btn_click(6)).grid(row = 2, column = 2, padx = 1, pady = 1)\n",
        " \n",
        "minus = button(btns_frame, text = \"-\", fg = \"black\", width = 10, height = 3, bd = 0, bg = \"#eee\", cursor = \"hand2\", command = lambda: btn_click(\"-\")).grid(row = 2, column = 3, padx = 1, pady = 1)\n",
        " \n",
        "# fourth row\n",
        " \n",
        "one = button(btns_frame, text = \"1\", fg = \"black\", width = 10, height = 3, bd = 0, bg = \"#fff\", cursor = \"hand2\", command = lambda: btn_click(1)).grid(row = 3, column = 0, padx = 1, pady = 1)\n",
        " \n",
        "two = button(btns_frame, text = \"2\", fg = \"black\", width = 10, height = 3, bd = 0, bg = \"#fff\", cursor = \"hand2\", command = lambda: btn_click(2)).grid(row = 3, column = 1, padx = 1, pady = 1)\n",
        " \n",
        "three = button(btns_frame, text = \"3\", fg = \"black\", width = 10, height = 3, bd = 0, bg = \"#fff\", cursor = \"hand2\", command = lambda: btn_click(3)).grid(row = 3, column = 2, padx = 1, pady = 1)\n",
        " \n",
        "plus = button(btns_frame, text = \"+\", fg = \"black\", width = 10, height = 3, bd = 0, bg = \"#eee\", cursor = \"hand2\", command = lambda: btn_click(\"+\")).grid(row = 3, column = 3, padx = 1, pady = 1)\n",
        " \n",
        "# fifth row\n",
        " \n",
        "zero = button(btns_frame, text = \"0\", fg = \"black\", width = 21, height = 3, bd = 0, bg = \"#fff\", cursor = \"hand2\", command = lambda: btn_click(0)).grid(row = 4, column = 0, columnspan = 2, padx = 1, pady = 1)\n",
        " \n",
        "point = button(btns_frame, text = \".\", fg = \"black\", width = 10, height = 3, bd = 0, bg = \"#eee\", cursor = \"hand2\", command = lambda: btn_click(\".\")).grid(row = 4, column = 2, padx = 1, pady = 1)\n",
        " \n",
        "equals = button(btns_frame, text = \"=\", fg = \"black\", width = 10, height = 3, bd = 0, bg = \"#eee\", cursor = \"hand2\", command = lambda: bt_equal()).grid(row = 4, column = 3, padx = 1, pady = 1)\n",
        " \n",
        "win.mainloop()"
      ],
      "execution_count": null,
      "outputs": [
        {
          "ename": "TclError",
          "evalue": "ignored",
          "output_type": "error",
          "traceback": [
            "\u001b[0;31m---------------------------------------------------------------------------\u001b[0m",
            "\u001b[0;31mTclError\u001b[0m                                  Traceback (most recent call last)",
            "\u001b[0;32m<ipython-input-2-23810faf8a59>\u001b[0m in \u001b[0;36m<module>\u001b[0;34m()\u001b[0m\n\u001b[1;32m      1\u001b[0m \u001b[0;32mimport\u001b[0m \u001b[0mturtle\u001b[0m\u001b[0;34m\u001b[0m\u001b[0;34m\u001b[0m\u001b[0m\n\u001b[0;32m----> 2\u001b[0;31m \u001b[0mturtle\u001b[0m\u001b[0;34m.\u001b[0m\u001b[0mpensize\u001b[0m\u001b[0;34m(\u001b[0m\u001b[0;36m1\u001b[0m\u001b[0;34m)\u001b[0m\u001b[0;34m\u001b[0m\u001b[0;34m\u001b[0m\u001b[0m\n\u001b[0m\u001b[1;32m      3\u001b[0m \u001b[0;34m\u001b[0m\u001b[0m\n\u001b[1;32m      4\u001b[0m \u001b[0;32mfor\u001b[0m \u001b[0mi\u001b[0m \u001b[0;32min\u001b[0m \u001b[0mrange\u001b[0m\u001b[0;34m(\u001b[0m\u001b[0;36m36\u001b[0m\u001b[0;34m)\u001b[0m\u001b[0;34m:\u001b[0m\u001b[0;34m\u001b[0m\u001b[0;34m\u001b[0m\u001b[0m\n\u001b[1;32m      5\u001b[0m    \u001b[0;32mfor\u001b[0m \u001b[0mj\u001b[0m \u001b[0;32min\u001b[0m \u001b[0mrange\u001b[0m\u001b[0;34m(\u001b[0m\u001b[0;36m4\u001b[0m\u001b[0;34m)\u001b[0m\u001b[0;34m:\u001b[0m\u001b[0;34m\u001b[0m\u001b[0;34m\u001b[0m\u001b[0m\n",
            "\u001b[0;32m/usr/lib/python3.7/turtle.py\u001b[0m in \u001b[0;36mpensize\u001b[0;34m(width)\u001b[0m\n",
            "\u001b[0;32m/usr/lib/python3.7/turtle.py\u001b[0m in \u001b[0;36m__init__\u001b[0;34m(self, shape, undobuffersize, visible)\u001b[0m\n\u001b[1;32m   3810\u001b[0m                  visible=_CFG[\"visible\"]):\n\u001b[1;32m   3811\u001b[0m         \u001b[0;32mif\u001b[0m \u001b[0mTurtle\u001b[0m\u001b[0;34m.\u001b[0m\u001b[0m_screen\u001b[0m \u001b[0;32mis\u001b[0m \u001b[0;32mNone\u001b[0m\u001b[0;34m:\u001b[0m\u001b[0;34m\u001b[0m\u001b[0;34m\u001b[0m\u001b[0m\n\u001b[0;32m-> 3812\u001b[0;31m             \u001b[0mTurtle\u001b[0m\u001b[0;34m.\u001b[0m\u001b[0m_screen\u001b[0m \u001b[0;34m=\u001b[0m \u001b[0mScreen\u001b[0m\u001b[0;34m(\u001b[0m\u001b[0;34m)\u001b[0m\u001b[0;34m\u001b[0m\u001b[0;34m\u001b[0m\u001b[0m\n\u001b[0m\u001b[1;32m   3813\u001b[0m         RawTurtle.__init__(self, Turtle._screen,\n\u001b[1;32m   3814\u001b[0m                            \u001b[0mshape\u001b[0m\u001b[0;34m=\u001b[0m\u001b[0mshape\u001b[0m\u001b[0;34m,\u001b[0m\u001b[0;34m\u001b[0m\u001b[0;34m\u001b[0m\u001b[0m\n",
            "\u001b[0;32m/usr/lib/python3.7/turtle.py\u001b[0m in \u001b[0;36mScreen\u001b[0;34m()\u001b[0m\n\u001b[1;32m   3660\u001b[0m     else return the existing one.\"\"\"\n\u001b[1;32m   3661\u001b[0m     \u001b[0;32mif\u001b[0m \u001b[0mTurtle\u001b[0m\u001b[0;34m.\u001b[0m\u001b[0m_screen\u001b[0m \u001b[0;32mis\u001b[0m \u001b[0;32mNone\u001b[0m\u001b[0;34m:\u001b[0m\u001b[0;34m\u001b[0m\u001b[0;34m\u001b[0m\u001b[0m\n\u001b[0;32m-> 3662\u001b[0;31m         \u001b[0mTurtle\u001b[0m\u001b[0;34m.\u001b[0m\u001b[0m_screen\u001b[0m \u001b[0;34m=\u001b[0m \u001b[0m_Screen\u001b[0m\u001b[0;34m(\u001b[0m\u001b[0;34m)\u001b[0m\u001b[0;34m\u001b[0m\u001b[0;34m\u001b[0m\u001b[0m\n\u001b[0m\u001b[1;32m   3663\u001b[0m     \u001b[0;32mreturn\u001b[0m \u001b[0mTurtle\u001b[0m\u001b[0;34m.\u001b[0m\u001b[0m_screen\u001b[0m\u001b[0;34m\u001b[0m\u001b[0;34m\u001b[0m\u001b[0m\n\u001b[1;32m   3664\u001b[0m \u001b[0;34m\u001b[0m\u001b[0m\n",
            "\u001b[0;32m/usr/lib/python3.7/turtle.py\u001b[0m in \u001b[0;36m__init__\u001b[0;34m(self)\u001b[0m\n\u001b[1;32m   3676\u001b[0m         \u001b[0;31m# preserved (perhaps by passing it as an optional parameter)\u001b[0m\u001b[0;34m\u001b[0m\u001b[0;34m\u001b[0m\u001b[0;34m\u001b[0m\u001b[0m\n\u001b[1;32m   3677\u001b[0m         \u001b[0;32mif\u001b[0m \u001b[0m_Screen\u001b[0m\u001b[0;34m.\u001b[0m\u001b[0m_root\u001b[0m \u001b[0;32mis\u001b[0m \u001b[0;32mNone\u001b[0m\u001b[0;34m:\u001b[0m\u001b[0;34m\u001b[0m\u001b[0;34m\u001b[0m\u001b[0m\n\u001b[0;32m-> 3678\u001b[0;31m             \u001b[0m_Screen\u001b[0m\u001b[0;34m.\u001b[0m\u001b[0m_root\u001b[0m \u001b[0;34m=\u001b[0m \u001b[0mself\u001b[0m\u001b[0;34m.\u001b[0m\u001b[0m_root\u001b[0m \u001b[0;34m=\u001b[0m \u001b[0m_Root\u001b[0m\u001b[0;34m(\u001b[0m\u001b[0;34m)\u001b[0m\u001b[0;34m\u001b[0m\u001b[0;34m\u001b[0m\u001b[0m\n\u001b[0m\u001b[1;32m   3679\u001b[0m             \u001b[0mself\u001b[0m\u001b[0;34m.\u001b[0m\u001b[0m_root\u001b[0m\u001b[0;34m.\u001b[0m\u001b[0mtitle\u001b[0m\u001b[0;34m(\u001b[0m\u001b[0m_Screen\u001b[0m\u001b[0;34m.\u001b[0m\u001b[0m_title\u001b[0m\u001b[0;34m)\u001b[0m\u001b[0;34m\u001b[0m\u001b[0;34m\u001b[0m\u001b[0m\n\u001b[1;32m   3680\u001b[0m             \u001b[0mself\u001b[0m\u001b[0;34m.\u001b[0m\u001b[0m_root\u001b[0m\u001b[0;34m.\u001b[0m\u001b[0mondestroy\u001b[0m\u001b[0;34m(\u001b[0m\u001b[0mself\u001b[0m\u001b[0;34m.\u001b[0m\u001b[0m_destroy\u001b[0m\u001b[0;34m)\u001b[0m\u001b[0;34m\u001b[0m\u001b[0;34m\u001b[0m\u001b[0m\n",
            "\u001b[0;32m/usr/lib/python3.7/turtle.py\u001b[0m in \u001b[0;36m__init__\u001b[0;34m(self)\u001b[0m\n\u001b[1;32m    432\u001b[0m     \u001b[0;34m\"\"\"Root class for Screen based on Tkinter.\"\"\"\u001b[0m\u001b[0;34m\u001b[0m\u001b[0;34m\u001b[0m\u001b[0m\n\u001b[1;32m    433\u001b[0m     \u001b[0;32mdef\u001b[0m \u001b[0m__init__\u001b[0m\u001b[0;34m(\u001b[0m\u001b[0mself\u001b[0m\u001b[0;34m)\u001b[0m\u001b[0;34m:\u001b[0m\u001b[0;34m\u001b[0m\u001b[0;34m\u001b[0m\u001b[0m\n\u001b[0;32m--> 434\u001b[0;31m         \u001b[0mTK\u001b[0m\u001b[0;34m.\u001b[0m\u001b[0mTk\u001b[0m\u001b[0;34m.\u001b[0m\u001b[0m__init__\u001b[0m\u001b[0;34m(\u001b[0m\u001b[0mself\u001b[0m\u001b[0;34m)\u001b[0m\u001b[0;34m\u001b[0m\u001b[0;34m\u001b[0m\u001b[0m\n\u001b[0m\u001b[1;32m    435\u001b[0m \u001b[0;34m\u001b[0m\u001b[0m\n\u001b[1;32m    436\u001b[0m     \u001b[0;32mdef\u001b[0m \u001b[0msetupcanvas\u001b[0m\u001b[0;34m(\u001b[0m\u001b[0mself\u001b[0m\u001b[0;34m,\u001b[0m \u001b[0mwidth\u001b[0m\u001b[0;34m,\u001b[0m \u001b[0mheight\u001b[0m\u001b[0;34m,\u001b[0m \u001b[0mcwidth\u001b[0m\u001b[0;34m,\u001b[0m \u001b[0mcheight\u001b[0m\u001b[0;34m)\u001b[0m\u001b[0;34m:\u001b[0m\u001b[0;34m\u001b[0m\u001b[0;34m\u001b[0m\u001b[0m\n",
            "\u001b[0;32m/usr/lib/python3.7/tkinter/__init__.py\u001b[0m in \u001b[0;36m__init__\u001b[0;34m(self, screenName, baseName, className, useTk, sync, use)\u001b[0m\n\u001b[1;32m   2021\u001b[0m                 \u001b[0mbaseName\u001b[0m \u001b[0;34m=\u001b[0m \u001b[0mbaseName\u001b[0m \u001b[0;34m+\u001b[0m \u001b[0mext\u001b[0m\u001b[0;34m\u001b[0m\u001b[0;34m\u001b[0m\u001b[0m\n\u001b[1;32m   2022\u001b[0m         \u001b[0minteractive\u001b[0m \u001b[0;34m=\u001b[0m \u001b[0;36m0\u001b[0m\u001b[0;34m\u001b[0m\u001b[0;34m\u001b[0m\u001b[0m\n\u001b[0;32m-> 2023\u001b[0;31m         \u001b[0mself\u001b[0m\u001b[0;34m.\u001b[0m\u001b[0mtk\u001b[0m \u001b[0;34m=\u001b[0m \u001b[0m_tkinter\u001b[0m\u001b[0;34m.\u001b[0m\u001b[0mcreate\u001b[0m\u001b[0;34m(\u001b[0m\u001b[0mscreenName\u001b[0m\u001b[0;34m,\u001b[0m \u001b[0mbaseName\u001b[0m\u001b[0;34m,\u001b[0m \u001b[0mclassName\u001b[0m\u001b[0;34m,\u001b[0m \u001b[0minteractive\u001b[0m\u001b[0;34m,\u001b[0m \u001b[0mwantobjects\u001b[0m\u001b[0;34m,\u001b[0m \u001b[0museTk\u001b[0m\u001b[0;34m,\u001b[0m \u001b[0msync\u001b[0m\u001b[0;34m,\u001b[0m \u001b[0muse\u001b[0m\u001b[0;34m)\u001b[0m\u001b[0;34m\u001b[0m\u001b[0;34m\u001b[0m\u001b[0m\n\u001b[0m\u001b[1;32m   2024\u001b[0m         \u001b[0;32mif\u001b[0m \u001b[0museTk\u001b[0m\u001b[0;34m:\u001b[0m\u001b[0;34m\u001b[0m\u001b[0;34m\u001b[0m\u001b[0m\n\u001b[1;32m   2025\u001b[0m             \u001b[0mself\u001b[0m\u001b[0;34m.\u001b[0m\u001b[0m_loadtk\u001b[0m\u001b[0;34m(\u001b[0m\u001b[0;34m)\u001b[0m\u001b[0;34m\u001b[0m\u001b[0;34m\u001b[0m\u001b[0m\n",
            "\u001b[0;31mTclError\u001b[0m: no display name and no $DISPLAY environment variable"
          ]
        }
      ]
    },
    {
      "cell_type": "markdown",
      "metadata": {
        "id": "d9BXLaDv9-l_"
      },
      "source": [
        " 2)Write a program to implement the following figures using turtle.\n",
        " \n",
        "Aim:\n",
        " \n",
        "Write a program to implement the following figures using turtle.\n",
        " \n",
        "DESCRIPTION:\n",
        " \n",
        " \n",
        "The turtle module is an extended reimplementation of the same-named module from the Python standard distribution up to version Python 2.5.\n",
        " \n",
        "It tries to keep the merits of the old turtle module and to be (nearly) 100% compatible with it. This means in the first place to enable the learning programmer to use all the commands, classes and methods interactively when using the module from within IDLE run with the -n switch.\n",
        " \n",
        "The turtle module provides turtle graphics primitives, in both object-oriented and procedure-oriented ways. Because it uses tkinter for the underlying graphics, it needs a version of Python installed with Tk support.\n",
        " \n",
        "PROGRAM:"
      ]
    },
    {
      "cell_type": "code",
      "metadata": {
        "id": "ofwZbBW_-l18"
      },
      "source": [
        "import turtle\n",
        "c=[\"red\",\"green\",\"blue\"]\n",
        "i=0\n",
        "turtle.pensize(5)\n",
        " \n",
        "for angle in range(0,360,30):\n",
        "    if i>2:\n",
        "        i=0\n",
        "    turtle.color(c[i])\n",
        "    turtle.seth(angle)\n",
        "    turtle.circle(50)\n",
        "    i+=1"
      ],
      "execution_count": null,
      "outputs": []
    },
    {
      "cell_type": "code",
      "metadata": {
        "id": "2LoT50kV-qHS"
      },
      "source": [
        "import turtle\n",
        "turtle.pensize(1)\n",
        " \n",
        "for i in range(36):\n",
        "    for j in range(4):\n",
        "        turtle.forward(70)\n",
        "        turtle.left(90)\n",
        "    turtle.left(10)"
      ],
      "execution_count": null,
      "outputs": []
    },
    {
      "cell_type": "markdown",
      "metadata": {
        "id": "egkMocf_-yZa"
      },
      "source": [
        " Exercise 15: Testing\n",
        " \n",
        "a)Write a test case to check the function even numbers which return true on passing a list of all even numbers.\n",
        " \n",
        "Aim:\n",
        " \n",
        " \n",
        "Write a test case to check the function even numbers which return true on passing a list of all even numbers.\n",
        " \n",
        "DESCRIPTION:\n",
        " \n",
        " \n",
        "TestCase is used to create test cases by subclassing it. The last block of the code at the bottom allows us to run all the tests just by running the file. Basic terms used in the code : assertEqual() – This statement is used to check if the result obtained is equal to the expected result\n",
        " \n",
        "test case:\n",
        " \n",
        "A test case is a set of conditions which is used to determine whether a system under test works correctly.\n",
        " \n",
        "Program:"
      ]
    },
    {
      "cell_type": "code",
      "metadata": {
        "id": "dTP6TRbL-498"
      },
      "source": [
        "def evnNo(num):\n",
        "    stat=True\n",
        " \n",
        "    for i in num:\n",
        "        if i%2 ==1:\n",
        "            stat=False\n",
        "            break\n",
        "    return stat\n",
        "        \n",
        "numbers=[]\n",
        "for i in range(0,2):\n",
        "    numbers.append(int(input(\"Enter a value\")))\n",
        "print(evnNo(numbers))"
      ],
      "execution_count": null,
      "outputs": []
    },
    {
      "cell_type": "markdown",
      "metadata": {
        "id": "_lKCQce3-8ii"
      },
      "source": [
        "b) Write a test-case to check the function reverse string which returns the reversed string\n",
        "Aim:Write a test-case to check the function reverse string which returns the reversed string\n",
        " \n",
        "Aim:\n",
        " \n",
        " \n",
        "Write a test-case to check the function reverse string which returns the reversed string\n",
        " \n",
        "DESCRIPTION:\n",
        " \n",
        " \n",
        "TestCase is used to create test cases by subclassing it. The last block of the code at the bottom allows us to run all the tests just by running the file. Basic terms used in the code : assertEqual() – This statement is used to check if the result obtained is equal to the expected result\n",
        " \n",
        "test case:\n",
        " \n",
        "A test case is a set of conditions which is used to determine whether a system under test works correctly.\n",
        "Program:"
      ]
    },
    {
      "cell_type": "code",
      "metadata": {
        "colab": {
          "base_uri": "https://localhost:8080/"
        },
        "id": "O4mrtFFv6edt",
        "outputId": "432432a0-3c69-405f-cd28-238b00fa6bc9"
      },
      "source": [
        " def rev_str(st):\n",
        "    return st[::-1]\n",
        " \n",
        "st=\"swarnandhra\"\n",
        "print(\"Given String is: \",st)\n",
        " \n",
        "print(\"Reverse is: \",rev_str(st))"
      ],
      "execution_count": null,
      "outputs": [
        {
          "name": "stdout",
          "output_type": "stream",
          "text": [
            "Given String is:  swarnandhra\n",
            "Reverse is:  arhdnanraws\n"
          ]
        }
      ]
    },
    {
      "cell_type": "markdown",
      "metadata": {
        "id": "VVXmxZIgUXcq"
      },
      "source": [
        " Exercise - 16 - Advanced"
      ]
    },
    {
      "cell_type": "markdown",
      "metadata": {
        "id": "wvpG15dC_ERv"
      },
      "source": [
        " a) Build any one classical data structure.\n",
        " \n",
        " \n",
        "Aim: \n",
        " \n",
        "Build any one classical data structure.\n",
        "DESCRIPTION:\n",
        " \n",
        " \n",
        "What is a Data Structure?\n",
        " \n",
        "Organizing, managing and storing data is important as it enables easier access and efficient modifications. Data Structures allows you to organize your data in such a way that enables you to store collections of data, relate them and perform operations on them accordingly.\n",
        " \n",
        "Stack Stacks are linear Data Structures which are based on the principle of Last-In-First-Out (LIFO) where data which is entered last will be the first to get accessed. It is built using the array structure and has operations namely, pushing (adding) elements, popping (deleting) elements and accessing elements only from one point in the stack called as the TOP. This TOP is the pointer to the current position of the stack. Stacks are prominently used in applications such as Recursive Programming, reversing words, undo mechanisms in word editors and so forth.\n",
        " \n",
        "Program:"
      ]
    },
    {
      "cell_type": "code",
      "metadata": {
        "colab": {
          "base_uri": "https://localhost:8080/",
          "height": 529
        },
        "id": "nf0MDD8OUbOc",
        "outputId": "7a9e147a-7911-42ec-909d-6948fcb212f7"
      },
      "source": [
        " import sys\n",
        "a=[]\n",
        "while True:\n",
        "  print(\"1.PUSH 2.POP 3.DISPLAY 4.EXIT\")\n",
        "  ch=int(input(\"Enter your choice:\"))\n",
        "  if ch==1:\n",
        "    ele=int(input(\"Enter element:\"))\n",
        "    a.append(ele)\n",
        "    print(\"Element is inserted\")\n",
        "  elif ch==2:\n",
        "    if len(a)==0:\n",
        "      print(\"Stack is empty\")\n",
        "    else:\n",
        "      print(\"poped element is \",a[len(a)-1])\n",
        "      a.remove(a[len(a)-1])\n",
        "  elif ch==3:\n",
        "    if len(a)==0:\n",
        "      print(\"Stack is empty\")\n",
        "    else:\n",
        "      print(\"Element in stack is \")\n",
        "      for i in a:\n",
        "        print(i)\n",
        "  elif ch==4:\n",
        "    sys.exit()\n",
        "  else:\n",
        "    print(\"Invalid choice\")"
      ],
      "execution_count": null,
      "outputs": [
        {
          "name": "stdout",
          "output_type": "stream",
          "text": [
            "1.PUSH 2.POP 3.DISPLAY 4.EXIT\n",
            "Enter your choice:1\n",
            "Enter element:2\n",
            "Element is inserted\n",
            "1.PUSH 2.POP 3.DISPLAY 4.EXIT\n",
            "Enter your choice:1\n",
            "Enter element:3\n",
            "Element is inserted\n",
            "1.PUSH 2.POP 3.DISPLAY 4.EXIT\n",
            "Enter your choice:2\n",
            "poped element is  3\n",
            "1.PUSH 2.POP 3.DISPLAY 4.EXIT\n",
            "Enter your choice:2\n",
            "poped element is  2\n",
            "1.PUSH 2.POP 3.DISPLAY 4.EXIT\n",
            "Enter your choice:3\n",
            "Stack is empty\n",
            "1.PUSH 2.POP 3.DISPLAY 4.EXIT\n",
            "Enter your choice:4\n"
          ]
        },
        {
          "ename": "SystemExit",
          "evalue": "ignored",
          "output_type": "error",
          "traceback": [
            "An exception has occurred, use %tb to see the full traceback.\n",
            "\u001b[0;31mSystemExit\u001b[0m\n"
          ]
        },
        {
          "name": "stderr",
          "output_type": "stream",
          "text": [
            "/usr/local/lib/python3.7/dist-packages/IPython/core/interactiveshell.py:2890: UserWarning: To exit: use 'exit', 'quit', or Ctrl-D.\n",
            "  warn(\"To exit: use 'exit', 'quit', or Ctrl-D.\", stacklevel=1)\n"
          ]
        }
      ]
    },
    {
      "cell_type": "markdown",
      "metadata": {
        "id": "p7_lK1YIU44s"
      },
      "source": [
        "b) Write a program to solve knapsack problem a) Build any one classical data structure.\n",
        " \n",
        " \n",
        " \n",
        "Aim: \n",
        " \n",
        "Build any one classical data structure.\n",
        "DESCRIPTION:\n",
        " \n",
        " \n",
        "What is a Data Structure?\n",
        " \n",
        "Organizing, managing and storing data is important as it enables easier access and efficient modifications. Data Structures allows you to organize your data in such a way that enables you to store collections of data, relate them and perform operations on them accordingly.\n",
        " \n",
        "Stack Stacks are linear Data Structures which are based on the principle of Last-In-First-Out (LIFO) where data which is entered last will be the first to get accessed. It is built using the array structure and has operations namely, pushing (adding) elements, popping (deleting) elements and accessing elements only from one point in the stack called as the TOP. This TOP is the pointer to the current position of the stack. Stacks are prominently used in applications such as Recursive Programming, reversing words, undo mechanisms in word editors and so forth.\n",
        " \n",
        "Program:\n",
        " \n",
        " \n",
        "Aim:\n",
        " \n",
        "Write a program to solve knapsack problem\n",
        " \n",
        "DESCRIPTION:\n",
        " \n",
        "Python Program for 0-1 Knapsack Problem\n",
        " \n",
        "Problem statement − We are given weights and values of n items, we need to put these items in a bag of capacity W up to the maximum capacity w. We need to carry a maximum number of items and return its value.\n",
        " \n",
        "Brute-force approach.\n",
        " \n",
        "dynamic approach.\n",
        " \n",
        "PROGRAM:"
      ]
    },
    {
      "cell_type": "code",
      "metadata": {
        "colab": {
          "base_uri": "https://localhost:8080/",
          "height": 183
        },
        "id": "7Pe9hI2gU6YS",
        "outputId": "882c45cf-2239-43b5-c7fa-46c82be96545"
      },
      "source": [
        " def knapSack(W,wt,val,n): \n",
        " K=[[0 for x in range(W+1)] for x in range(n+1)]\n",
        "for i in range(n+1):\n",
        "  for w in range(W+1):\n",
        "   if i==0 or w==0:\n",
        "      K[i][w]=0\n",
        "   elif wt[i-1]<=w:\n",
        "      K[i][w]=max(val[i-1]+ K[i-1][w-wt[i-1]],K[i-1][w]) \n",
        "   else:\n",
        "      K[i][w]=K[i-1][w]\n",
        "return K[n][W]\n",
        "val= [5,3,4]\n",
        "wt=[3,2,1]\n",
        "W=5 \n",
        "n=len(val)\n",
        "print(\"Maximum value knapsack of capacity W: \",knapSack(W, wt, val, n))"
      ],
      "execution_count": null,
      "outputs": [
        {
          "ename": "IndentationError",
          "evalue": "ignored",
          "output_type": "error",
          "traceback": [
            "\u001b[0;36m  File \u001b[0;32m\"<ipython-input-23-c37deee0bd94>\"\u001b[0;36m, line \u001b[0;32m2\u001b[0m\n\u001b[0;31m    K=[[0 for x in range(W+1)] for x in range(n+1)]\u001b[0m\n\u001b[0m    ^\u001b[0m\n\u001b[0;31mIndentationError\u001b[0m\u001b[0;31m:\u001b[0m expected an indented block\n"
          ]
        }
      ]
    },
    {
      "cell_type": "markdown",
      "metadata": {
        "id": "xl0P0O2yVIe4"
      },
      "source": [
        "Exercise - 17-Data Analysis\n",
        " \n",
        " \n",
        "Data analysis or manipulation using the following packages\n",
        " \n",
        " \n",
        "a) Numpy b) Pandas\n",
        " \n",
        " \n",
        "Exercise - 17 - Advanced\n",
        " \n",
        " \n",
        "Data analysis or manipulation using the following packages\n",
        " \n",
        " \n",
        "a) Scipy b) matplotlib"
      ]
    },
    {
      "cell_type": "markdown",
      "metadata": {
        "id": "hdFph-Yh_ZcC"
      },
      "source": [
        " Aim:\n",
        " \n",
        "Data analysis or manipulation using the following packages\n",
        " \n",
        "a) Numpm\n",
        " \n",
        "b) Pandas\n",
        " \n",
        "c)scipy\n",
        " \n",
        "d)matplotlib\n",
        "DESCRIPTION:\n",
        " \n",
        " \n",
        "Learn how to analyze data using Python. ... It includes following parts: Data Analysis libraries: will learn to use Pandas, Numpy and Scipy libraries to work with a sample dataset. We will introduce you to pandas, an open-source library, and we will use it to load, manipulate, analyze, and visualize cool datasets.\n",
        " \n",
        "SciPy is a free and open-source Python library used for scientific computing and technical computing. It is a collection of mathematical algorithms and convenience functions built on the NumPy extension of Python\n",
        " \n",
        "NumPy is the fundamental package for scientific computing in Python. ... NumPy arrays facilitate advanced mathematical and other types of operations on large numbers of data.\n",
        " \n",
        "Matplotlib is a plotting library for the Python programming language and its numerical mathematics extension NumPy. It provides an object-oriented API for embedding plots into applications using general-purpose GUI toolkits like Tkinter, wxPython, Qt, or GTK\n",
        " \n",
        "Pandas is an open source Python package that is most widely used for data science/data analysis and machine learning tasks. It is built on top of another package named Numpy, which provides support for multi-dimensional arrays.\n",
        " \n",
        "Scikit-learn is probably the most useful library for machine learning in Python. The sklearn library contains a lot of efficient tools for machine learning and statistical modeling including classification, regression, clustering and dimensionality reduction.\n",
        " \n",
        "Seaborn is a library in Python predominantly used for making statistical graphics. Seaborn is a data visualization library built on top of matplotlib and closely integrated with pandas data structures in Python\n",
        " \n",
        "Program:"
      ]
    },
    {
      "cell_type": "code",
      "metadata": {
        "colab": {
          "base_uri": "https://localhost:8080/"
        },
        "id": "ePIbX1ZBVQtq",
        "outputId": "eb292592-38e8-44a3-fd20-d68d9e7536fa"
      },
      "source": [
        " import sys\n",
        " \n",
        "print('Python:{}'.format(sys.version))\n",
        " \n",
        "#scipy\n",
        " \n",
        "import scipy\n",
        "print('scipy: {}'.format(scipy.__version__))\n",
        " \n",
        "#numpy \n",
        " \n",
        "import numpy\n",
        "print('numpy:{}'.format(numpy.__version__))\n",
        " \n",
        "#matplotlib \n",
        " \n",
        "import matplotlib\n",
        "print('matplotlib:{}'.format(matplotlib.__version__))\n",
        " \n",
        "#pandas \n",
        " \n",
        "import pandas\n",
        "print('pandas:{}'.format(pandas. __version__))\n",
        " \n",
        "#scikit-learn\n",
        " \n",
        "import sklearn\n",
        "print('sklearn:{}'.format(sklearn.__version__))\n",
        " \n",
        "import seaborn\n",
        "print('seaborn: {}'.format(seaborn.__version__)) \n",
        " \n",
        "import urllib\n",
        "print('urlib:{}'.format(urllib.__name__)) \n",
        " \n",
        "import csv\n",
        "print('csv: {}'.format(csv.__version__))"
      ],
      "execution_count": null,
      "outputs": [
        {
          "name": "stdout",
          "output_type": "stream",
          "text": [
            "Python:3.7.11 (default, Jul  3 2021, 18:01:19) \n",
            "[GCC 7.5.0]\n",
            "scipy: 1.4.1\n",
            "numpy:1.19.5\n",
            "matplotlib:3.2.2\n",
            "pandas:1.1.5\n",
            "sklearn:0.22.2.post1\n",
            "seaborn: 0.11.1\n",
            "urlib:urllib\n",
            "csv: 1.0\n"
          ]
        }
      ]
    },
    {
      "cell_type": "markdown",
      "metadata": {
        "id": "iCuDrcyqVcX5"
      },
      "source": [
        "a) Numpy"
      ]
    },
    {
      "cell_type": "code",
      "metadata": {
        "colab": {
          "base_uri": "https://localhost:8080/"
        },
        "id": "pPniyKlkVeQL",
        "outputId": "a858ef0a-6d6b-40bd-dc52-bbebb750e351"
      },
      "source": [
        " import numpy as np\n",
        "x=np.array(5) #0-dimension array\n",
        "print(x.dtype)\n",
        "print(x.ndim)\n",
        "print(x.shape)\n",
        "print(x)"
      ],
      "execution_count": null,
      "outputs": [
        {
          "name": "stdout",
          "output_type": "stream",
          "text": [
            "int64\n",
            "0\n",
            "()\n",
            "5\n"
          ]
        }
      ]
    },
    {
      "cell_type": "code",
      "metadata": {
        "colab": {
          "base_uri": "https://localhost:8080/"
        },
        "id": "4Z19J_faVh15",
        "outputId": "97d21e9c-d1f7-4cdb-e261-0c2e118069d9"
      },
      "source": [
        " data=np.array([2,6,3,7,8]) #1-dimension array\n",
        "print(type(data))\n",
        "print(data)\n",
        "print(data[4])"
      ],
      "execution_count": null,
      "outputs": [
        {
          "name": "stdout",
          "output_type": "stream",
          "text": [
            "<class 'numpy.ndarray'>\n",
            "[2 6 3 7 8]\n",
            "8\n"
          ]
        }
      ]
    },
    {
      "cell_type": "code",
      "metadata": {
        "colab": {
          "base_uri": "https://localhost:8080/"
        },
        "id": "ovG4a-ONVnY_",
        "outputId": "39d9c931-edee-4f24-ffff-2433b2c3d62a"
      },
      "source": [
        " m=np.array([[1,2,3],[4,5,6],[7,8,9]]) #2-dimension array\n",
        "print(m.ndim)\n",
        "print(m.shape)\n",
        "print(m)\n",
        "print(m[2,0:3])"
      ],
      "execution_count": null,
      "outputs": [
        {
          "name": "stdout",
          "output_type": "stream",
          "text": [
            "2\n",
            "(3, 3)\n",
            "[[1 2 3]\n",
            " [4 5 6]\n",
            " [7 8 9]]\n",
            "[7 8 9]\n"
          ]
        }
      ]
    },
    {
      "cell_type": "code",
      "metadata": {
        "colab": {
          "base_uri": "https://localhost:8080/"
        },
        "id": "8_qnSg90Vofj",
        "outputId": "980602dc-8979-4d75-9889-ae6380b3c540"
      },
      "source": [
        " data=np.array([2,6,3,9],ndmin=5) #n-dimension array\n",
        "print(type(data))\n",
        "print(data)"
      ],
      "execution_count": null,
      "outputs": [
        {
          "name": "stdout",
          "output_type": "stream",
          "text": [
            "<class 'numpy.ndarray'>\n",
            "[[[[[2 6 3 9]]]]]\n"
          ]
        }
      ]
    },
    {
      "cell_type": "code",
      "metadata": {
        "colab": {
          "base_uri": "https://localhost:8080/"
        },
        "id": "FZgQMGncVsfd",
        "outputId": "2e0a5a9d-c743-401d-8e88-917cf66a9e41"
      },
      "source": [
        " arr=np.array([23,12,43,56,76,15])\n",
        "x=arr.copy()\n",
        "arr[0]=5\n",
        "print(x)\n",
        "print(arr)"
      ],
      "execution_count": null,
      "outputs": [
        {
          "name": "stdout",
          "output_type": "stream",
          "text": [
            "[23 12 43 56 76 15]\n",
            "[ 5 12 43 56 76 15]\n"
          ]
        }
      ]
    },
    {
      "cell_type": "code",
      "metadata": {
        "colab": {
          "base_uri": "https://localhost:8080/"
        },
        "id": "LE7iObMCVx7j",
        "outputId": "4f12402c-b159-411f-9b3d-2b80ba02cb73"
      },
      "source": [
        " arr1=np.array([[23,12,43],[56,76,15]])\n",
        "arr2=np.array([[33,42,12],[68,2,54]])\n",
        "arr=np.concatenate((arr1,arr2),axis=0)\n",
        "print(arr)\n",
        "arr=np.concatenate((arr1,arr2),axis=1)\n",
        "print(arr)\n",
        "print(np.array_split(arr,4))"
      ],
      "execution_count": null,
      "outputs": [
        {
          "name": "stdout",
          "output_type": "stream",
          "text": [
            "[[23 12 43]\n",
            " [56 76 15]\n",
            " [33 42 12]\n",
            " [68  2 54]]\n",
            "[[23 12 43 33 42 12]\n",
            " [56 76 15 68  2 54]]\n",
            "[array([[23, 12, 43, 33, 42, 12]]), array([[56, 76, 15, 68,  2, 54]]), array([], shape=(0, 6), dtype=int64), array([], shape=(0, 6), dtype=int64)]\n"
          ]
        }
      ]
    },
    {
      "cell_type": "code",
      "metadata": {
        "colab": {
          "base_uri": "https://localhost:8080/"
        },
        "id": "RSUtgdHjV1dK",
        "outputId": "ebd386fb-b06b-4c4c-a2b0-220189fd8411"
      },
      "source": [
        " from numpy import random\n",
        "x=random.randint(100,size=5)\n",
        "print(x)"
      ],
      "execution_count": null,
      "outputs": [
        {
          "name": "stdout",
          "output_type": "stream",
          "text": [
            "[85 14 89 46 96]\n"
          ]
        }
      ]
    },
    {
      "cell_type": "code",
      "metadata": {
        "colab": {
          "base_uri": "https://localhost:8080/"
        },
        "id": "4kDfW9IEV4wg",
        "outputId": "50de187b-6b41-4600-eb66-93e7ef5f3287"
      },
      "source": [
        " y=random.rand(3,2)\n",
        "print(y)"
      ],
      "execution_count": null,
      "outputs": [
        {
          "name": "stdout",
          "output_type": "stream",
          "text": [
            "[[0.34895808 0.4910002 ]\n",
            " [0.61842603 0.91024815]\n",
            " [0.96148457 0.80953618]]\n"
          ]
        }
      ]
    },
    {
      "cell_type": "code",
      "metadata": {
        "colab": {
          "base_uri": "https://localhost:8080/"
        },
        "id": "YjpEVSyWV5_n",
        "outputId": "3c2f06cd-c659-492f-9c9a-5c3ab2d12c07"
      },
      "source": [
        " z=random.choice([2,5,1,7,8,3])\n",
        "print(z)"
      ],
      "execution_count": null,
      "outputs": [
        {
          "name": "stdout",
          "output_type": "stream",
          "text": [
            "7\n"
          ]
        }
      ]
    },
    {
      "cell_type": "markdown",
      "metadata": {
        "id": "d2vov0vrV_RG"
      },
      "source": [
        " b)Pandas"
      ]
    },
    {
      "cell_type": "code",
      "metadata": {
        "colab": {
          "base_uri": "https://localhost:8080/"
        },
        "id": "NXVgarmTWCWe",
        "outputId": "a74561c7-a80a-484d-86f7-7b4b288ce43b"
      },
      "source": [
        " import pandas as pd\n",
        "data=pd.Series([1,2,3,4,5],index=['A','B','C','D','E'])\n",
        "print(data)"
      ],
      "execution_count": null,
      "outputs": [
        {
          "name": "stdout",
          "output_type": "stream",
          "text": [
            "A    1\n",
            "B    2\n",
            "C    3\n",
            "D    4\n",
            "E    5\n",
            "dtype: int64\n"
          ]
        }
      ]
    },
    {
      "cell_type": "code",
      "metadata": {
        "colab": {
          "base_uri": "https://localhost:8080/"
        },
        "id": "uX1ORZN0WFfL",
        "outputId": "5bc33302-89ad-4522-ed7f-ac85f2b9910d"
      },
      "source": [
        " data={'Gen':['M','F','M'],'EiD':[101,102,103],'Age':[26,30,24],'Name':[\"karthik\",\"siva\",\"kiran\"]}\n",
        "d=pd.DataFrame(data,columns=['EiD','Name','Gen','Age'])\n",
        "print(d)"
      ],
      "execution_count": null,
      "outputs": [
        {
          "name": "stdout",
          "output_type": "stream",
          "text": [
            "   EiD     Name Gen  Age\n",
            "0  101  karthik   M   26\n",
            "1  102     siva   F   30\n",
            "2  103    kiran   M   24\n"
          ]
        }
      ]
    },
    {
      "cell_type": "markdown",
      "metadata": {
        "id": "udeEJwHMWMRU"
      },
      "source": [
        "c)Scipy"
      ]
    },
    {
      "cell_type": "code",
      "metadata": {
        "colab": {
          "base_uri": "https://localhost:8080/"
        },
        "id": "y7mmGWOQWNKL",
        "outputId": "6222f0ff-512c-423b-fc32-8cd2621f4690"
      },
      "source": [
        " from scipy import constants\n",
        "print(constants.pi)\n",
        "print(constants.deci)\n",
        "print(constants.kilo)\n",
        "print(constants.milli)"
      ],
      "execution_count": null,
      "outputs": [
        {
          "name": "stdout",
          "output_type": "stream",
          "text": [
            "3.141592653589793\n",
            "0.1\n",
            "1000.0\n",
            "0.001\n"
          ]
        }
      ]
    },
    {
      "cell_type": "code",
      "metadata": {
        "colab": {
          "base_uri": "https://localhost:8080/"
        },
        "id": "23jb1PIBWVA8",
        "outputId": "8b8d715b-b68e-49f2-c4f1-ef6cd22c2da3"
      },
      "source": [
        " from scipy import linalg\n",
        "import numpy as np\n",
        "x=np.array([[2,4,1],[7,5,3],[4,2,1]])\n",
        "y=np.array([2,1,7])\n",
        "z=linalg.solve(x,y)\n",
        "print(z)"
      ],
      "execution_count": null,
      "outputs": [
        {
          "name": "stdout",
          "output_type": "stream",
          "text": [
            "[  3.75   1.25 -10.5 ]\n"
          ]
        }
      ]
    },
    {
      "cell_type": "code",
      "metadata": {
        "colab": {
          "base_uri": "https://localhost:8080/"
        },
        "id": "3HYpF2R9WY4I",
        "outputId": "86b55001-12de-4505-ef4a-0a2c5042f82d"
      },
      "source": [
        " from scipy import linalg\n",
        "import numpy as np\n",
        "A=np.array([[2,4,1],[7,5,3],[2,9,6]])\n",
        "x=linalg.det(A)\n",
        "print(x)"
      ],
      "execution_count": null,
      "outputs": [
        {
          "name": "stdout",
          "output_type": "stream",
          "text": [
            "-85.0\n"
          ]
        }
      ]
    },
    {
      "cell_type": "code",
      "metadata": {
        "colab": {
          "base_uri": "https://localhost:8080/"
        },
        "id": "2Oe_0llvWdgM",
        "outputId": "6e17696a-f062-4ef2-f41f-cb0d9dc7fc80"
      },
      "source": [
        " from scipy import linalg\n",
        "import numpy as np\n",
        "A=np.array([[2,4,1],[7,5,3],[2,9,6]])\n",
        "x,y=linalg.eig(A)\n",
        "print(\"Eigean values:\",x)\n",
        "print(\"Eigean vector:\",y)"
      ],
      "execution_count": null,
      "outputs": [
        {
          "name": "stdout",
          "output_type": "stream",
          "text": [
            "Eigean values: [12.8756074 +0.j -2.50792017+0.j  2.63231277+0.j]\n",
            "Eigean vector: [[ 0.27329417  0.45632869 -0.29839612]\n",
            " [ 0.5448779  -0.66271731 -0.27561521]\n",
            " [ 0.79272843  0.59377596  0.91378116]]\n"
          ]
        }
      ]
    },
    {
      "cell_type": "markdown",
      "metadata": {
        "id": "gcCDR22IWiwv"
      },
      "source": [
        "b) Matplotlib"
      ]
    },
    {
      "cell_type": "code",
      "metadata": {
        "colab": {
          "base_uri": "https://localhost:8080/",
          "height": 198
        },
        "id": "fkl31oIBWjj-",
        "outputId": "2bd6dced-2c66-4c86-bf37-5f14f4643c2e"
      },
      "source": [
        " import matplotlib.pyplot as mtp\n",
        "import numpy as np\n",
        "x=np.array([3,5,7,9,11])\n",
        "y=np.array([43,97,23,36,97])\n",
        "mtp.plot(x,y)\n",
        "mtp.show()"
      ],
      "execution_count": null,
      "outputs": [
        {
          "data": {
            "image/png": "[encoded data removed]",
            "text/plain": [
              "<Figure size 432x288 with 1 Axes>"
            ]
          },
          "metadata": {},
          "output_type": "display_data"
        }
      ]
    },
    {
      "cell_type": "code",
      "metadata": {
        "colab": {
          "base_uri": "https://localhost:8080/",
          "height": 196
        },
        "id": "AH2n8_kbWpNI",
        "outputId": "b6bf8e39-b901-499e-f229-1bac247221e9"
      },
      "source": [
        " x=np.array([2,5,7,10,13])\n",
        "y=np.array([45,97,13,56,77])\n",
        "mtp.bar(x,y)\n",
        "mtp.show()"
      ],
      "execution_count": null,
      "outputs": [
        {
          "data": {
            "image/png": "[encoded data removed]",
            "text/plain": [
              "<Figure size 432x288 with 1 Axes>"
            ]
          },
          "metadata": {},
          "output_type": "display_data"
        }
      ]
    },
    {
      "cell_type": "code",
      "metadata": {
        "colab": {
          "base_uri": "https://localhost:8080/",
          "height": 248
        },
        "id": "O7KFdGKhWsKh",
        "outputId": "8700d329-1798-42c5-f882-404dcb12cf66"
      },
      "source": [
        " x=np.array([35,20,15,27,3])\n",
        "mylabel=['paddy','cotton','chilli','major','lemon']\n",
        "mtp.pie(x,labels=mylabel)\n",
        "mtp.show()"
      ],
      "execution_count": null,
      "outputs": [
        {
          "data": {
            "image/png": "[encoded data removed]",
            "text/plain": [
              "<Figure size 432x288 with 1 Axes>"
            ]
          },
          "metadata": {},
          "output_type": "display_data"
        }
      ]
    }
  ]
}